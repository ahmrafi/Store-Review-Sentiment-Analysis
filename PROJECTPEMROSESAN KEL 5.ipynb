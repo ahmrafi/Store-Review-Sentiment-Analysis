{
 "cells": [
  {
   "cell_type": "markdown",
   "id": "9ee77488",
   "metadata": {
    "papermill": {
     "duration": 0.010649,
     "end_time": "2023-08-20T07:13:24.682960",
     "exception": false,
     "start_time": "2023-08-20T07:13:24.672311",
     "status": "completed"
    },
    "tags": []
   },
   "source": [
    "# **Importing Libraries**"
   ]
  },
  {
   "cell_type": "code",
   "execution_count": 1,
   "id": "ebdcf0b3",
   "metadata": {
    "_cell_guid": "b1076dfc-b9ad-4769-8c92-a6c4dae69d19",
    "_uuid": "8f2839f25d086af736a60e9eeb907d3b93b6e0e5",
    "execution": {
     "iopub.execute_input": "2023-08-20T07:13:24.708803Z",
     "iopub.status.busy": "2023-08-20T07:13:24.707397Z",
     "iopub.status.idle": "2023-08-20T07:13:26.478454Z",
     "shell.execute_reply": "2023-08-20T07:13:26.476761Z"
    },
    "papermill": {
     "duration": 1.787236,
     "end_time": "2023-08-20T07:13:26.481490",
     "exception": false,
     "start_time": "2023-08-20T07:13:24.694254",
     "status": "completed"
    },
    "tags": []
   },
   "outputs": [],
   "source": [
    "import numpy as np\n",
    "import pandas as pd\n",
    "import matplotlib.pyplot as plt\n",
    "import seaborn as sns\n",
    "import warnings         #For Ignoring the Warnings\n",
    "warnings.filterwarnings(\"ignore\")"
   ]
  },
  {
   "cell_type": "code",
   "execution_count": 2,
   "id": "d25e01d8",
   "metadata": {
    "execution": {
     "iopub.execute_input": "2023-08-20T07:13:26.507430Z",
     "iopub.status.busy": "2023-08-20T07:13:26.506880Z",
     "iopub.status.idle": "2023-08-20T07:13:27.585575Z",
     "shell.execute_reply": "2023-08-20T07:13:27.584118Z"
    },
    "papermill": {
     "duration": 1.095973,
     "end_time": "2023-08-20T07:13:27.589355",
     "exception": false,
     "start_time": "2023-08-20T07:13:26.493382",
     "status": "completed"
    },
    "tags": []
   },
   "outputs": [],
   "source": [
    "#Used for Sentiment Analysis\n",
    "import pandas as pd\n",
    "import nltk\n",
    "from nltk.sentiment import SentimentIntensityAnalyzer\n",
    "import numpy as np\n",
    "import re\n",
    "import nltk\n",
    "from nltk.corpus import twitter_samples\n",
    "from nltk.corpus import stopwords\n",
    "from nltk.stem.porter import PorterStemmer\n",
    "from nltk.stem.snowball import SnowballStemmer\n",
    "from nltk.stem import WordNetLemmatizer\n",
    "from spellchecker import SpellChecker\n",
    "from sklearn.preprocessing import normalize\n"
   ]
  },
  {
   "cell_type": "code",
   "execution_count": 3,
   "id": "d6809912",
   "metadata": {
    "execution": {
     "iopub.execute_input": "2023-08-20T07:13:27.617446Z",
     "iopub.status.busy": "2023-08-20T07:13:27.617011Z",
     "iopub.status.idle": "2023-08-20T07:13:27.623364Z",
     "shell.execute_reply": "2023-08-20T07:13:27.621933Z"
    },
    "papermill": {
     "duration": 0.024471,
     "end_time": "2023-08-20T07:13:27.626162",
     "exception": false,
     "start_time": "2023-08-20T07:13:27.601691",
     "status": "completed"
    },
    "tags": []
   },
   "outputs": [],
   "source": [
    "#Used for Model Building\n",
    "from sklearn.model_selection import train_test_split\n",
    "from sklearn.feature_extraction.text import TfidfVectorizer\n",
    "from sklearn.svm import SVC\n",
    "from sklearn.metrics import accuracy_score, classification_report"
   ]
  },
  {
   "cell_type": "markdown",
   "id": "8013e8f4",
   "metadata": {
    "papermill": {
     "duration": 0.010948,
     "end_time": "2023-08-20T07:13:27.648465",
     "exception": false,
     "start_time": "2023-08-20T07:13:27.637517",
     "status": "completed"
    },
    "tags": []
   },
   "source": [
    "# **Importing the Dataset**"
   ]
  },
  {
   "cell_type": "code",
   "execution_count": 4,
   "id": "341bf891",
   "metadata": {
    "execution": {
     "iopub.execute_input": "2023-08-20T07:13:27.672518Z",
     "iopub.status.busy": "2023-08-20T07:13:27.672103Z",
     "iopub.status.idle": "2023-08-20T07:13:27.944436Z",
     "shell.execute_reply": "2023-08-20T07:13:27.943169Z"
    },
    "papermill": {
     "duration": 0.288076,
     "end_time": "2023-08-20T07:13:27.947683",
     "exception": false,
     "start_time": "2023-08-20T07:13:27.659607",
     "status": "completed"
    },
    "tags": []
   },
   "outputs": [],
   "source": [
    "df = pd.read_csv(\"McDonald_s_Reviews.csv\", encoding=\"latin-1\")"
   ]
  },
  {
   "cell_type": "markdown",
   "id": "ceea1643",
   "metadata": {
    "papermill": {
     "duration": 0.01086,
     "end_time": "2023-08-20T07:13:27.970380",
     "exception": false,
     "start_time": "2023-08-20T07:13:27.959520",
     "status": "completed"
    },
    "tags": []
   },
   "source": [
    "**Exploring the Dataset**"
   ]
  },
  {
   "cell_type": "code",
   "execution_count": 5,
   "id": "676edb0a",
   "metadata": {
    "execution": {
     "iopub.execute_input": "2023-08-20T07:13:27.995545Z",
     "iopub.status.busy": "2023-08-20T07:13:27.995068Z",
     "iopub.status.idle": "2023-08-20T07:13:28.029367Z",
     "shell.execute_reply": "2023-08-20T07:13:28.027996Z"
    },
    "papermill": {
     "duration": 0.050714,
     "end_time": "2023-08-20T07:13:28.032290",
     "exception": false,
     "start_time": "2023-08-20T07:13:27.981576",
     "status": "completed"
    },
    "tags": []
   },
   "outputs": [
    {
     "data": {
      "text/html": [
       "<div>\n",
       "<style scoped>\n",
       "    .dataframe tbody tr th:only-of-type {\n",
       "        vertical-align: middle;\n",
       "    }\n",
       "\n",
       "    .dataframe tbody tr th {\n",
       "        vertical-align: top;\n",
       "    }\n",
       "\n",
       "    .dataframe thead th {\n",
       "        text-align: right;\n",
       "    }\n",
       "</style>\n",
       "<table border=\"1\" class=\"dataframe\">\n",
       "  <thead>\n",
       "    <tr style=\"text-align: right;\">\n",
       "      <th></th>\n",
       "      <th>reviewer_id</th>\n",
       "      <th>store_name</th>\n",
       "      <th>category</th>\n",
       "      <th>store_address</th>\n",
       "      <th>latitude</th>\n",
       "      <th>longitude</th>\n",
       "      <th>rating_count</th>\n",
       "      <th>review_time</th>\n",
       "      <th>review</th>\n",
       "      <th>rating</th>\n",
       "    </tr>\n",
       "  </thead>\n",
       "  <tbody>\n",
       "    <tr>\n",
       "      <th>0</th>\n",
       "      <td>1</td>\n",
       "      <td>McDonald's</td>\n",
       "      <td>Fast food restaurant</td>\n",
       "      <td>13749 US-183 Hwy, Austin, TX 78750, United States</td>\n",
       "      <td>30.460718</td>\n",
       "      <td>-97.792874</td>\n",
       "      <td>1,240</td>\n",
       "      <td>3 months ago</td>\n",
       "      <td>Why does it look like someone spit on my food?...</td>\n",
       "      <td>1 star</td>\n",
       "    </tr>\n",
       "    <tr>\n",
       "      <th>1</th>\n",
       "      <td>2</td>\n",
       "      <td>McDonald's</td>\n",
       "      <td>Fast food restaurant</td>\n",
       "      <td>13749 US-183 Hwy, Austin, TX 78750, United States</td>\n",
       "      <td>30.460718</td>\n",
       "      <td>-97.792874</td>\n",
       "      <td>1,240</td>\n",
       "      <td>5 days ago</td>\n",
       "      <td>It'd McDonalds. It is what it is as far as the...</td>\n",
       "      <td>4 stars</td>\n",
       "    </tr>\n",
       "    <tr>\n",
       "      <th>2</th>\n",
       "      <td>3</td>\n",
       "      <td>McDonald's</td>\n",
       "      <td>Fast food restaurant</td>\n",
       "      <td>13749 US-183 Hwy, Austin, TX 78750, United States</td>\n",
       "      <td>30.460718</td>\n",
       "      <td>-97.792874</td>\n",
       "      <td>1,240</td>\n",
       "      <td>5 days ago</td>\n",
       "      <td>Made a mobile order got to the speaker and che...</td>\n",
       "      <td>1 star</td>\n",
       "    </tr>\n",
       "    <tr>\n",
       "      <th>3</th>\n",
       "      <td>4</td>\n",
       "      <td>McDonald's</td>\n",
       "      <td>Fast food restaurant</td>\n",
       "      <td>13749 US-183 Hwy, Austin, TX 78750, United States</td>\n",
       "      <td>30.460718</td>\n",
       "      <td>-97.792874</td>\n",
       "      <td>1,240</td>\n",
       "      <td>a month ago</td>\n",
       "      <td>My mc. Crispy chicken sandwich was ï¿½ï¿½ï¿½ï¿...</td>\n",
       "      <td>5 stars</td>\n",
       "    </tr>\n",
       "    <tr>\n",
       "      <th>4</th>\n",
       "      <td>5</td>\n",
       "      <td>McDonald's</td>\n",
       "      <td>Fast food restaurant</td>\n",
       "      <td>13749 US-183 Hwy, Austin, TX 78750, United States</td>\n",
       "      <td>30.460718</td>\n",
       "      <td>-97.792874</td>\n",
       "      <td>1,240</td>\n",
       "      <td>2 months ago</td>\n",
       "      <td>I repeat my order 3 times in the drive thru, a...</td>\n",
       "      <td>1 star</td>\n",
       "    </tr>\n",
       "  </tbody>\n",
       "</table>\n",
       "</div>"
      ],
      "text/plain": [
       "   reviewer_id  store_name              category  \\\n",
       "0            1  McDonald's  Fast food restaurant   \n",
       "1            2  McDonald's  Fast food restaurant   \n",
       "2            3  McDonald's  Fast food restaurant   \n",
       "3            4  McDonald's  Fast food restaurant   \n",
       "4            5  McDonald's  Fast food restaurant   \n",
       "\n",
       "                                       store_address  latitude   longitude  \\\n",
       "0  13749 US-183 Hwy, Austin, TX 78750, United States  30.460718 -97.792874   \n",
       "1  13749 US-183 Hwy, Austin, TX 78750, United States  30.460718 -97.792874   \n",
       "2  13749 US-183 Hwy, Austin, TX 78750, United States  30.460718 -97.792874   \n",
       "3  13749 US-183 Hwy, Austin, TX 78750, United States  30.460718 -97.792874   \n",
       "4  13749 US-183 Hwy, Austin, TX 78750, United States  30.460718 -97.792874   \n",
       "\n",
       "  rating_count   review_time  \\\n",
       "0        1,240  3 months ago   \n",
       "1        1,240    5 days ago   \n",
       "2        1,240    5 days ago   \n",
       "3        1,240   a month ago   \n",
       "4        1,240  2 months ago   \n",
       "\n",
       "                                              review   rating  \n",
       "0  Why does it look like someone spit on my food?...   1 star  \n",
       "1  It'd McDonalds. It is what it is as far as the...  4 stars  \n",
       "2  Made a mobile order got to the speaker and che...   1 star  \n",
       "3  My mc. Crispy chicken sandwich was ï¿½ï¿½ï¿½ï¿...  5 stars  \n",
       "4  I repeat my order 3 times in the drive thru, a...   1 star  "
      ]
     },
     "execution_count": 5,
     "metadata": {},
     "output_type": "execute_result"
    }
   ],
   "source": [
    "df.head(5)"
   ]
  },
  {
   "cell_type": "code",
   "execution_count": 6,
   "id": "cafb8419",
   "metadata": {
    "execution": {
     "iopub.execute_input": "2023-08-20T07:13:28.059265Z",
     "iopub.status.busy": "2023-08-20T07:13:28.057871Z",
     "iopub.status.idle": "2023-08-20T07:13:28.066553Z",
     "shell.execute_reply": "2023-08-20T07:13:28.065323Z"
    },
    "papermill": {
     "duration": 0.024927,
     "end_time": "2023-08-20T07:13:28.069022",
     "exception": false,
     "start_time": "2023-08-20T07:13:28.044095",
     "status": "completed"
    },
    "tags": []
   },
   "outputs": [
    {
     "data": {
      "text/plain": [
       "Index(['reviewer_id', 'store_name', 'category', 'store_address', 'latitude ',\n",
       "       'longitude', 'rating_count', 'review_time', 'review', 'rating'],\n",
       "      dtype='object')"
      ]
     },
     "execution_count": 6,
     "metadata": {},
     "output_type": "execute_result"
    }
   ],
   "source": [
    "df.columns"
   ]
  },
  {
   "cell_type": "code",
   "execution_count": 7,
   "id": "af44aa86",
   "metadata": {
    "execution": {
     "iopub.execute_input": "2023-08-20T07:13:28.094671Z",
     "iopub.status.busy": "2023-08-20T07:13:28.094247Z",
     "iopub.status.idle": "2023-08-20T07:13:28.117170Z",
     "shell.execute_reply": "2023-08-20T07:13:28.116204Z"
    },
    "papermill": {
     "duration": 0.038742,
     "end_time": "2023-08-20T07:13:28.119487",
     "exception": false,
     "start_time": "2023-08-20T07:13:28.080745",
     "status": "completed"
    },
    "tags": []
   },
   "outputs": [
    {
     "data": {
      "text/html": [
       "<div>\n",
       "<style scoped>\n",
       "    .dataframe tbody tr th:only-of-type {\n",
       "        vertical-align: middle;\n",
       "    }\n",
       "\n",
       "    .dataframe tbody tr th {\n",
       "        vertical-align: top;\n",
       "    }\n",
       "\n",
       "    .dataframe thead th {\n",
       "        text-align: right;\n",
       "    }\n",
       "</style>\n",
       "<table border=\"1\" class=\"dataframe\">\n",
       "  <thead>\n",
       "    <tr style=\"text-align: right;\">\n",
       "      <th></th>\n",
       "      <th>reviewer_id</th>\n",
       "      <th>store_name</th>\n",
       "      <th>category</th>\n",
       "      <th>store_address</th>\n",
       "      <th>latitude</th>\n",
       "      <th>longitude</th>\n",
       "      <th>rating_count</th>\n",
       "      <th>review_time</th>\n",
       "      <th>review</th>\n",
       "      <th>rating</th>\n",
       "    </tr>\n",
       "  </thead>\n",
       "  <tbody>\n",
       "    <tr>\n",
       "      <th>10796</th>\n",
       "      <td>10797</td>\n",
       "      <td>McDonald's</td>\n",
       "      <td>Fast food restaurant</td>\n",
       "      <td>1650 Washington Ave, Miami Beach, FL 33139, Un...</td>\n",
       "      <td>25.790295</td>\n",
       "      <td>-80.132077</td>\n",
       "      <td>4,922</td>\n",
       "      <td>3 years ago</td>\n",
       "      <td>The service was good but there was this 1 weir...</td>\n",
       "      <td>4 stars</td>\n",
       "    </tr>\n",
       "    <tr>\n",
       "      <th>12407</th>\n",
       "      <td>12408</td>\n",
       "      <td>McDonald's</td>\n",
       "      <td>Fast food restaurant</td>\n",
       "      <td>1044 US-11, Champlain, NY 12919, United States</td>\n",
       "      <td>44.981410</td>\n",
       "      <td>-73.459820</td>\n",
       "      <td>1,306</td>\n",
       "      <td>5 years ago</td>\n",
       "      <td>Nice restaurant</td>\n",
       "      <td>4 stars</td>\n",
       "    </tr>\n",
       "    <tr>\n",
       "      <th>29831</th>\n",
       "      <td>29832</td>\n",
       "      <td>McDonald's</td>\n",
       "      <td>Fast food restaurant</td>\n",
       "      <td>9814 International Dr, Orlando, FL 32819, Unit...</td>\n",
       "      <td>28.423814</td>\n",
       "      <td>-81.461242</td>\n",
       "      <td>5,468</td>\n",
       "      <td>a month ago</td>\n",
       "      <td>No cashiers/order takers; you must use their s...</td>\n",
       "      <td>1 star</td>\n",
       "    </tr>\n",
       "    <tr>\n",
       "      <th>17211</th>\n",
       "      <td>17212</td>\n",
       "      <td>McDonald's</td>\n",
       "      <td>Fast food restaurant</td>\n",
       "      <td>10901 Riverside Dr, North Hollywood, CA 91602,...</td>\n",
       "      <td>34.152507</td>\n",
       "      <td>-118.367904</td>\n",
       "      <td>1,795</td>\n",
       "      <td>5 years ago</td>\n",
       "      <td>Good</td>\n",
       "      <td>4 stars</td>\n",
       "    </tr>\n",
       "    <tr>\n",
       "      <th>18232</th>\n",
       "      <td>18233</td>\n",
       "      <td>McDonald's</td>\n",
       "      <td>Fast food restaurant</td>\n",
       "      <td>1100 N US Hwy 377, Roanoke, TX 76262, United S...</td>\n",
       "      <td>33.009318</td>\n",
       "      <td>-97.222925</td>\n",
       "      <td>998</td>\n",
       "      <td>2 years ago</td>\n",
       "      <td>They made a mistake on my order but I hadn't l...</td>\n",
       "      <td>5 stars</td>\n",
       "    </tr>\n",
       "  </tbody>\n",
       "</table>\n",
       "</div>"
      ],
      "text/plain": [
       "       reviewer_id  store_name              category  \\\n",
       "10796        10797  McDonald's  Fast food restaurant   \n",
       "12407        12408  McDonald's  Fast food restaurant   \n",
       "29831        29832  McDonald's  Fast food restaurant   \n",
       "17211        17212  McDonald's  Fast food restaurant   \n",
       "18232        18233  McDonald's  Fast food restaurant   \n",
       "\n",
       "                                           store_address  latitude   \\\n",
       "10796  1650 Washington Ave, Miami Beach, FL 33139, Un...  25.790295   \n",
       "12407     1044 US-11, Champlain, NY 12919, United States  44.981410   \n",
       "29831  9814 International Dr, Orlando, FL 32819, Unit...  28.423814   \n",
       "17211  10901 Riverside Dr, North Hollywood, CA 91602,...  34.152507   \n",
       "18232  1100 N US Hwy 377, Roanoke, TX 76262, United S...  33.009318   \n",
       "\n",
       "        longitude rating_count  review_time  \\\n",
       "10796  -80.132077        4,922  3 years ago   \n",
       "12407  -73.459820        1,306  5 years ago   \n",
       "29831  -81.461242        5,468  a month ago   \n",
       "17211 -118.367904        1,795  5 years ago   \n",
       "18232  -97.222925          998  2 years ago   \n",
       "\n",
       "                                                  review   rating  \n",
       "10796  The service was good but there was this 1 weir...  4 stars  \n",
       "12407                                    Nice restaurant  4 stars  \n",
       "29831  No cashiers/order takers; you must use their s...   1 star  \n",
       "17211                                              Good   4 stars  \n",
       "18232  They made a mistake on my order but I hadn't l...  5 stars  "
      ]
     },
     "execution_count": 7,
     "metadata": {},
     "output_type": "execute_result"
    }
   ],
   "source": [
    "df.sample(5)"
   ]
  },
  {
   "cell_type": "code",
   "execution_count": 8,
   "id": "62a4b483",
   "metadata": {
    "execution": {
     "iopub.execute_input": "2023-08-20T07:13:28.147148Z",
     "iopub.status.busy": "2023-08-20T07:13:28.145886Z",
     "iopub.status.idle": "2023-08-20T07:13:28.248528Z",
     "shell.execute_reply": "2023-08-20T07:13:28.246912Z"
    },
    "papermill": {
     "duration": 0.118949,
     "end_time": "2023-08-20T07:13:28.251245",
     "exception": false,
     "start_time": "2023-08-20T07:13:28.132296",
     "status": "completed"
    },
    "tags": []
   },
   "outputs": [
    {
     "name": "stdout",
     "output_type": "stream",
     "text": [
      "<class 'pandas.core.frame.DataFrame'>\n",
      "RangeIndex: 33396 entries, 0 to 33395\n",
      "Data columns (total 10 columns):\n",
      " #   Column         Non-Null Count  Dtype  \n",
      "---  ------         --------------  -----  \n",
      " 0   reviewer_id    33396 non-null  int64  \n",
      " 1   store_name     33396 non-null  object \n",
      " 2   category       33396 non-null  object \n",
      " 3   store_address  33396 non-null  object \n",
      " 4   latitude       32736 non-null  float64\n",
      " 5   longitude      32736 non-null  float64\n",
      " 6   rating_count   33396 non-null  object \n",
      " 7   review_time    33396 non-null  object \n",
      " 8   review         33396 non-null  object \n",
      " 9   rating         33396 non-null  object \n",
      "dtypes: float64(2), int64(1), object(7)\n",
      "memory usage: 2.5+ MB\n"
     ]
    }
   ],
   "source": [
    "df.info()"
   ]
  },
  {
   "cell_type": "markdown",
   "id": "e768c655",
   "metadata": {},
   "source": [
    "# **Cleansing the Datasets**"
   ]
  },
  {
   "cell_type": "code",
   "execution_count": 9,
   "id": "b0e11893",
   "metadata": {},
   "outputs": [],
   "source": [
    "import string\n",
    "\n",
    "PUNCTUATIONS = string.punctuation\n",
    "\n",
    "def remove_punctuation_and_lowercase(text):\n",
    "    text_without_punctuations = text.translate(str.maketrans('', '', PUNCTUATIONS))\n",
    "    return text_without_punctuations.lower()\n",
    "\n",
    "df['review'] = df['review'].apply(remove_punctuation_and_lowercase)\n"
   ]
  },
  {
   "cell_type": "markdown",
   "id": "0c9ec07f",
   "metadata": {},
   "source": [
    "# **Prepocessing the Datasets**"
   ]
  },
  {
   "cell_type": "code",
   "execution_count": 10,
   "id": "138d9240",
   "metadata": {},
   "outputs": [],
   "source": [
    "STOPWORDS = set(stopwords.words('english'))\n",
    "\n",
    "def remove_stopwords(text):\n",
    "    return ' '.join([word for word in text.split() if word.lower() not in STOPWORDS])\n",
    "\n",
    "# Assuming 'review' is the column containing the text\n",
    "df['review'] = df['review'].apply(remove_stopwords)\n"
   ]
  },
  {
   "cell_type": "code",
   "execution_count": 11,
   "id": "b94da6a1",
   "metadata": {},
   "outputs": [
    {
     "data": {
      "text/html": [
       "<div>\n",
       "<style scoped>\n",
       "    .dataframe tbody tr th:only-of-type {\n",
       "        vertical-align: middle;\n",
       "    }\n",
       "\n",
       "    .dataframe tbody tr th {\n",
       "        vertical-align: top;\n",
       "    }\n",
       "\n",
       "    .dataframe thead th {\n",
       "        text-align: right;\n",
       "    }\n",
       "</style>\n",
       "<table border=\"1\" class=\"dataframe\">\n",
       "  <thead>\n",
       "    <tr style=\"text-align: right;\">\n",
       "      <th></th>\n",
       "      <th>reviewer_id</th>\n",
       "      <th>store_name</th>\n",
       "      <th>category</th>\n",
       "      <th>store_address</th>\n",
       "      <th>latitude</th>\n",
       "      <th>longitude</th>\n",
       "      <th>rating_count</th>\n",
       "      <th>review_time</th>\n",
       "      <th>review</th>\n",
       "      <th>rating</th>\n",
       "    </tr>\n",
       "  </thead>\n",
       "  <tbody>\n",
       "    <tr>\n",
       "      <th>0</th>\n",
       "      <td>1</td>\n",
       "      <td>McDonald's</td>\n",
       "      <td>Fast food restaurant</td>\n",
       "      <td>13749 US-183 Hwy, Austin, TX 78750, United States</td>\n",
       "      <td>30.460718</td>\n",
       "      <td>-97.792874</td>\n",
       "      <td>1,240</td>\n",
       "      <td>3 months ago</td>\n",
       "      <td>look like someone spit food normal transaction...</td>\n",
       "      <td>1 star</td>\n",
       "    </tr>\n",
       "    <tr>\n",
       "      <th>1</th>\n",
       "      <td>2</td>\n",
       "      <td>McDonald's</td>\n",
       "      <td>Fast food restaurant</td>\n",
       "      <td>13749 US-183 Hwy, Austin, TX 78750, United States</td>\n",
       "      <td>30.460718</td>\n",
       "      <td>-97.792874</td>\n",
       "      <td>1,240</td>\n",
       "      <td>5 days ago</td>\n",
       "      <td>itd mcdonalds far food atmosphere go staff mak...</td>\n",
       "      <td>4 stars</td>\n",
       "    </tr>\n",
       "    <tr>\n",
       "      <th>2</th>\n",
       "      <td>3</td>\n",
       "      <td>McDonald's</td>\n",
       "      <td>Fast food restaurant</td>\n",
       "      <td>13749 US-183 Hwy, Austin, TX 78750, United States</td>\n",
       "      <td>30.460718</td>\n",
       "      <td>-97.792874</td>\n",
       "      <td>1,240</td>\n",
       "      <td>5 days ago</td>\n",
       "      <td>made mobile order got speaker checked line mov...</td>\n",
       "      <td>1 star</td>\n",
       "    </tr>\n",
       "    <tr>\n",
       "      <th>3</th>\n",
       "      <td>4</td>\n",
       "      <td>McDonald's</td>\n",
       "      <td>Fast food restaurant</td>\n",
       "      <td>13749 US-183 Hwy, Austin, TX 78750, United States</td>\n",
       "      <td>30.460718</td>\n",
       "      <td>-97.792874</td>\n",
       "      <td>1,240</td>\n",
       "      <td>a month ago</td>\n",
       "      <td>mc crispy chicken sandwich ï¿½ï¿½ï¿½ï¿½ï¿½ï¿½ï...</td>\n",
       "      <td>5 stars</td>\n",
       "    </tr>\n",
       "    <tr>\n",
       "      <th>4</th>\n",
       "      <td>5</td>\n",
       "      <td>McDonald's</td>\n",
       "      <td>Fast food restaurant</td>\n",
       "      <td>13749 US-183 Hwy, Austin, TX 78750, United States</td>\n",
       "      <td>30.460718</td>\n",
       "      <td>-97.792874</td>\n",
       "      <td>1,240</td>\n",
       "      <td>2 months ago</td>\n",
       "      <td>repeat order 3 times drive thru still manage m...</td>\n",
       "      <td>1 star</td>\n",
       "    </tr>\n",
       "  </tbody>\n",
       "</table>\n",
       "</div>"
      ],
      "text/plain": [
       "   reviewer_id  store_name              category  \\\n",
       "0            1  McDonald's  Fast food restaurant   \n",
       "1            2  McDonald's  Fast food restaurant   \n",
       "2            3  McDonald's  Fast food restaurant   \n",
       "3            4  McDonald's  Fast food restaurant   \n",
       "4            5  McDonald's  Fast food restaurant   \n",
       "\n",
       "                                       store_address  latitude   longitude  \\\n",
       "0  13749 US-183 Hwy, Austin, TX 78750, United States  30.460718 -97.792874   \n",
       "1  13749 US-183 Hwy, Austin, TX 78750, United States  30.460718 -97.792874   \n",
       "2  13749 US-183 Hwy, Austin, TX 78750, United States  30.460718 -97.792874   \n",
       "3  13749 US-183 Hwy, Austin, TX 78750, United States  30.460718 -97.792874   \n",
       "4  13749 US-183 Hwy, Austin, TX 78750, United States  30.460718 -97.792874   \n",
       "\n",
       "  rating_count   review_time  \\\n",
       "0        1,240  3 months ago   \n",
       "1        1,240    5 days ago   \n",
       "2        1,240    5 days ago   \n",
       "3        1,240   a month ago   \n",
       "4        1,240  2 months ago   \n",
       "\n",
       "                                              review   rating  \n",
       "0  look like someone spit food normal transaction...   1 star  \n",
       "1  itd mcdonalds far food atmosphere go staff mak...  4 stars  \n",
       "2  made mobile order got speaker checked line mov...   1 star  \n",
       "3  mc crispy chicken sandwich ï¿½ï¿½ï¿½ï¿½ï¿½ï¿½ï...  5 stars  \n",
       "4  repeat order 3 times drive thru still manage m...   1 star  "
      ]
     },
     "execution_count": 11,
     "metadata": {},
     "output_type": "execute_result"
    }
   ],
   "source": [
    "df.head(5)"
   ]
  },
  {
   "cell_type": "code",
   "execution_count": 12,
   "id": "9897bf80",
   "metadata": {},
   "outputs": [],
   "source": [
    "df['review'] = df['review'].replace(\"ï¿½\", \"\", regex=True)\n",
    "df['review'] = df['review'].replace(\"ï¿\", \"\", regex=True)\n",
    "df['review'] = df['review'].replace(\"ý\", \"\", regex=True)\n",
    "df['review'] = df['review'].replace(\"ï\", \"\", regex=True)\n"
   ]
  },
  {
   "cell_type": "code",
   "execution_count": 13,
   "id": "5640879f",
   "metadata": {},
   "outputs": [
    {
     "data": {
      "text/html": [
       "<div>\n",
       "<style scoped>\n",
       "    .dataframe tbody tr th:only-of-type {\n",
       "        vertical-align: middle;\n",
       "    }\n",
       "\n",
       "    .dataframe tbody tr th {\n",
       "        vertical-align: top;\n",
       "    }\n",
       "\n",
       "    .dataframe thead th {\n",
       "        text-align: right;\n",
       "    }\n",
       "</style>\n",
       "<table border=\"1\" class=\"dataframe\">\n",
       "  <thead>\n",
       "    <tr style=\"text-align: right;\">\n",
       "      <th></th>\n",
       "      <th>reviewer_id</th>\n",
       "      <th>store_name</th>\n",
       "      <th>category</th>\n",
       "      <th>store_address</th>\n",
       "      <th>latitude</th>\n",
       "      <th>longitude</th>\n",
       "      <th>rating_count</th>\n",
       "      <th>review_time</th>\n",
       "      <th>review</th>\n",
       "      <th>rating</th>\n",
       "    </tr>\n",
       "  </thead>\n",
       "  <tbody>\n",
       "    <tr>\n",
       "      <th>0</th>\n",
       "      <td>1</td>\n",
       "      <td>McDonald's</td>\n",
       "      <td>Fast food restaurant</td>\n",
       "      <td>13749 US-183 Hwy, Austin, TX 78750, United States</td>\n",
       "      <td>30.460718</td>\n",
       "      <td>-97.792874</td>\n",
       "      <td>1,240</td>\n",
       "      <td>3 months ago</td>\n",
       "      <td>look like someone spit food normal transaction...</td>\n",
       "      <td>1 star</td>\n",
       "    </tr>\n",
       "    <tr>\n",
       "      <th>1</th>\n",
       "      <td>2</td>\n",
       "      <td>McDonald's</td>\n",
       "      <td>Fast food restaurant</td>\n",
       "      <td>13749 US-183 Hwy, Austin, TX 78750, United States</td>\n",
       "      <td>30.460718</td>\n",
       "      <td>-97.792874</td>\n",
       "      <td>1,240</td>\n",
       "      <td>5 days ago</td>\n",
       "      <td>itd mcdonalds far food atmosphere go staff mak...</td>\n",
       "      <td>4 stars</td>\n",
       "    </tr>\n",
       "    <tr>\n",
       "      <th>2</th>\n",
       "      <td>3</td>\n",
       "      <td>McDonald's</td>\n",
       "      <td>Fast food restaurant</td>\n",
       "      <td>13749 US-183 Hwy, Austin, TX 78750, United States</td>\n",
       "      <td>30.460718</td>\n",
       "      <td>-97.792874</td>\n",
       "      <td>1,240</td>\n",
       "      <td>5 days ago</td>\n",
       "      <td>made mobile order got speaker checked line mov...</td>\n",
       "      <td>1 star</td>\n",
       "    </tr>\n",
       "    <tr>\n",
       "      <th>3</th>\n",
       "      <td>4</td>\n",
       "      <td>McDonald's</td>\n",
       "      <td>Fast food restaurant</td>\n",
       "      <td>13749 US-183 Hwy, Austin, TX 78750, United States</td>\n",
       "      <td>30.460718</td>\n",
       "      <td>-97.792874</td>\n",
       "      <td>1,240</td>\n",
       "      <td>a month ago</td>\n",
       "      <td>mc crispy chicken sandwich  customer service q...</td>\n",
       "      <td>5 stars</td>\n",
       "    </tr>\n",
       "    <tr>\n",
       "      <th>4</th>\n",
       "      <td>5</td>\n",
       "      <td>McDonald's</td>\n",
       "      <td>Fast food restaurant</td>\n",
       "      <td>13749 US-183 Hwy, Austin, TX 78750, United States</td>\n",
       "      <td>30.460718</td>\n",
       "      <td>-97.792874</td>\n",
       "      <td>1,240</td>\n",
       "      <td>2 months ago</td>\n",
       "      <td>repeat order 3 times drive thru still manage m...</td>\n",
       "      <td>1 star</td>\n",
       "    </tr>\n",
       "  </tbody>\n",
       "</table>\n",
       "</div>"
      ],
      "text/plain": [
       "   reviewer_id  store_name              category  \\\n",
       "0            1  McDonald's  Fast food restaurant   \n",
       "1            2  McDonald's  Fast food restaurant   \n",
       "2            3  McDonald's  Fast food restaurant   \n",
       "3            4  McDonald's  Fast food restaurant   \n",
       "4            5  McDonald's  Fast food restaurant   \n",
       "\n",
       "                                       store_address  latitude   longitude  \\\n",
       "0  13749 US-183 Hwy, Austin, TX 78750, United States  30.460718 -97.792874   \n",
       "1  13749 US-183 Hwy, Austin, TX 78750, United States  30.460718 -97.792874   \n",
       "2  13749 US-183 Hwy, Austin, TX 78750, United States  30.460718 -97.792874   \n",
       "3  13749 US-183 Hwy, Austin, TX 78750, United States  30.460718 -97.792874   \n",
       "4  13749 US-183 Hwy, Austin, TX 78750, United States  30.460718 -97.792874   \n",
       "\n",
       "  rating_count   review_time  \\\n",
       "0        1,240  3 months ago   \n",
       "1        1,240    5 days ago   \n",
       "2        1,240    5 days ago   \n",
       "3        1,240   a month ago   \n",
       "4        1,240  2 months ago   \n",
       "\n",
       "                                              review   rating  \n",
       "0  look like someone spit food normal transaction...   1 star  \n",
       "1  itd mcdonalds far food atmosphere go staff mak...  4 stars  \n",
       "2  made mobile order got speaker checked line mov...   1 star  \n",
       "3  mc crispy chicken sandwich  customer service q...  5 stars  \n",
       "4  repeat order 3 times drive thru still manage m...   1 star  "
      ]
     },
     "execution_count": 13,
     "metadata": {},
     "output_type": "execute_result"
    }
   ],
   "source": [
    "df.head(5)"
   ]
  },
  {
   "cell_type": "code",
   "execution_count": 14,
   "id": "7ac46db4",
   "metadata": {},
   "outputs": [],
   "source": [
    "lemmatizer = WordNetLemmatizer()\n",
    "\n",
    "def text_lemmatize(text):\n",
    "    return ' '.join([lemmatizer.lemmatize(word) for word in text.split()])\n",
    "\n",
    "df['review'] = df['review'].apply(text_lemmatize)\n"
   ]
  },
  {
   "cell_type": "code",
   "execution_count": 15,
   "id": "58234d23",
   "metadata": {},
   "outputs": [],
   "source": [
    "# Simpan DataFrame ke file CSV baru\n",
    "df.to_csv(\"mcd_cleaning.csv\", index=False)"
   ]
  },
  {
   "cell_type": "markdown",
   "id": "5cc249d5",
   "metadata": {},
   "source": [
    "# **Data Labelling**"
   ]
  },
  {
   "cell_type": "code",
   "execution_count": 16,
   "id": "c1a2c7bf",
   "metadata": {},
   "outputs": [
    {
     "data": {
      "text/html": [
       "<div>\n",
       "<style scoped>\n",
       "    .dataframe tbody tr th:only-of-type {\n",
       "        vertical-align: middle;\n",
       "    }\n",
       "\n",
       "    .dataframe tbody tr th {\n",
       "        vertical-align: top;\n",
       "    }\n",
       "\n",
       "    .dataframe thead th {\n",
       "        text-align: right;\n",
       "    }\n",
       "</style>\n",
       "<table border=\"1\" class=\"dataframe\">\n",
       "  <thead>\n",
       "    <tr style=\"text-align: right;\">\n",
       "      <th></th>\n",
       "      <th>reviewer_id</th>\n",
       "      <th>store_name</th>\n",
       "      <th>category</th>\n",
       "      <th>store_address</th>\n",
       "      <th>latitude</th>\n",
       "      <th>longitude</th>\n",
       "      <th>rating_count</th>\n",
       "      <th>review_time</th>\n",
       "      <th>review</th>\n",
       "      <th>rating</th>\n",
       "    </tr>\n",
       "  </thead>\n",
       "  <tbody>\n",
       "    <tr>\n",
       "      <th>0</th>\n",
       "      <td>1</td>\n",
       "      <td>McDonald's</td>\n",
       "      <td>Fast food restaurant</td>\n",
       "      <td>13749 US-183 Hwy, Austin, TX 78750, United States</td>\n",
       "      <td>30.460718</td>\n",
       "      <td>-97.792874</td>\n",
       "      <td>1,240</td>\n",
       "      <td>3 months ago</td>\n",
       "      <td>look like someone spit food normal transaction...</td>\n",
       "      <td>1 star</td>\n",
       "    </tr>\n",
       "    <tr>\n",
       "      <th>1</th>\n",
       "      <td>2</td>\n",
       "      <td>McDonald's</td>\n",
       "      <td>Fast food restaurant</td>\n",
       "      <td>13749 US-183 Hwy, Austin, TX 78750, United States</td>\n",
       "      <td>30.460718</td>\n",
       "      <td>-97.792874</td>\n",
       "      <td>1,240</td>\n",
       "      <td>5 days ago</td>\n",
       "      <td>itd mcdonalds far food atmosphere go staff mak...</td>\n",
       "      <td>4 stars</td>\n",
       "    </tr>\n",
       "    <tr>\n",
       "      <th>2</th>\n",
       "      <td>3</td>\n",
       "      <td>McDonald's</td>\n",
       "      <td>Fast food restaurant</td>\n",
       "      <td>13749 US-183 Hwy, Austin, TX 78750, United States</td>\n",
       "      <td>30.460718</td>\n",
       "      <td>-97.792874</td>\n",
       "      <td>1,240</td>\n",
       "      <td>5 days ago</td>\n",
       "      <td>made mobile order got speaker checked line mov...</td>\n",
       "      <td>1 star</td>\n",
       "    </tr>\n",
       "    <tr>\n",
       "      <th>3</th>\n",
       "      <td>4</td>\n",
       "      <td>McDonald's</td>\n",
       "      <td>Fast food restaurant</td>\n",
       "      <td>13749 US-183 Hwy, Austin, TX 78750, United States</td>\n",
       "      <td>30.460718</td>\n",
       "      <td>-97.792874</td>\n",
       "      <td>1,240</td>\n",
       "      <td>a month ago</td>\n",
       "      <td>mc crispy chicken sandwich customer service qu...</td>\n",
       "      <td>5 stars</td>\n",
       "    </tr>\n",
       "    <tr>\n",
       "      <th>4</th>\n",
       "      <td>5</td>\n",
       "      <td>McDonald's</td>\n",
       "      <td>Fast food restaurant</td>\n",
       "      <td>13749 US-183 Hwy, Austin, TX 78750, United States</td>\n",
       "      <td>30.460718</td>\n",
       "      <td>-97.792874</td>\n",
       "      <td>1,240</td>\n",
       "      <td>2 months ago</td>\n",
       "      <td>repeat order 3 time drive thru still manage me...</td>\n",
       "      <td>1 star</td>\n",
       "    </tr>\n",
       "    <tr>\n",
       "      <th>...</th>\n",
       "      <td>...</td>\n",
       "      <td>...</td>\n",
       "      <td>...</td>\n",
       "      <td>...</td>\n",
       "      <td>...</td>\n",
       "      <td>...</td>\n",
       "      <td>...</td>\n",
       "      <td>...</td>\n",
       "      <td>...</td>\n",
       "      <td>...</td>\n",
       "    </tr>\n",
       "    <tr>\n",
       "      <th>33391</th>\n",
       "      <td>33392</td>\n",
       "      <td>McDonald's</td>\n",
       "      <td>Fast food restaurant</td>\n",
       "      <td>3501 Biscayne Blvd, Miami, FL 33137, United St...</td>\n",
       "      <td>25.810000</td>\n",
       "      <td>-80.189098</td>\n",
       "      <td>2,810</td>\n",
       "      <td>4 years ago</td>\n",
       "      <td>treated badly</td>\n",
       "      <td>1 star</td>\n",
       "    </tr>\n",
       "    <tr>\n",
       "      <th>33392</th>\n",
       "      <td>33393</td>\n",
       "      <td>McDonald's</td>\n",
       "      <td>Fast food restaurant</td>\n",
       "      <td>3501 Biscayne Blvd, Miami, FL 33137, United St...</td>\n",
       "      <td>25.810000</td>\n",
       "      <td>-80.189098</td>\n",
       "      <td>2,810</td>\n",
       "      <td>a year ago</td>\n",
       "      <td>service good</td>\n",
       "      <td>5 stars</td>\n",
       "    </tr>\n",
       "    <tr>\n",
       "      <th>33393</th>\n",
       "      <td>33394</td>\n",
       "      <td>McDonald's</td>\n",
       "      <td>Fast food restaurant</td>\n",
       "      <td>3501 Biscayne Blvd, Miami, FL 33137, United St...</td>\n",
       "      <td>25.810000</td>\n",
       "      <td>-80.189098</td>\n",
       "      <td>2,810</td>\n",
       "      <td>a year ago</td>\n",
       "      <td>remove hunger enough</td>\n",
       "      <td>4 stars</td>\n",
       "    </tr>\n",
       "    <tr>\n",
       "      <th>33394</th>\n",
       "      <td>33395</td>\n",
       "      <td>McDonald's</td>\n",
       "      <td>Fast food restaurant</td>\n",
       "      <td>3501 Biscayne Blvd, Miami, FL 33137, United St...</td>\n",
       "      <td>25.810000</td>\n",
       "      <td>-80.189098</td>\n",
       "      <td>2,810</td>\n",
       "      <td>5 years ago</td>\n",
       "      <td>good lately become expensive</td>\n",
       "      <td>5 stars</td>\n",
       "    </tr>\n",
       "    <tr>\n",
       "      <th>33395</th>\n",
       "      <td>33396</td>\n",
       "      <td>McDonald's</td>\n",
       "      <td>Fast food restaurant</td>\n",
       "      <td>3501 Biscayne Blvd, Miami, FL 33137, United St...</td>\n",
       "      <td>25.810000</td>\n",
       "      <td>-80.189098</td>\n",
       "      <td>2,810</td>\n",
       "      <td>2 years ago</td>\n",
       "      <td>took good care</td>\n",
       "      <td>5 stars</td>\n",
       "    </tr>\n",
       "  </tbody>\n",
       "</table>\n",
       "<p>33396 rows × 10 columns</p>\n",
       "</div>"
      ],
      "text/plain": [
       "       reviewer_id  store_name              category  \\\n",
       "0                1  McDonald's  Fast food restaurant   \n",
       "1                2  McDonald's  Fast food restaurant   \n",
       "2                3  McDonald's  Fast food restaurant   \n",
       "3                4  McDonald's  Fast food restaurant   \n",
       "4                5  McDonald's  Fast food restaurant   \n",
       "...            ...         ...                   ...   \n",
       "33391        33392  McDonald's  Fast food restaurant   \n",
       "33392        33393  McDonald's  Fast food restaurant   \n",
       "33393        33394  McDonald's  Fast food restaurant   \n",
       "33394        33395  McDonald's  Fast food restaurant   \n",
       "33395        33396  McDonald's  Fast food restaurant   \n",
       "\n",
       "                                           store_address  latitude   \\\n",
       "0      13749 US-183 Hwy, Austin, TX 78750, United States  30.460718   \n",
       "1      13749 US-183 Hwy, Austin, TX 78750, United States  30.460718   \n",
       "2      13749 US-183 Hwy, Austin, TX 78750, United States  30.460718   \n",
       "3      13749 US-183 Hwy, Austin, TX 78750, United States  30.460718   \n",
       "4      13749 US-183 Hwy, Austin, TX 78750, United States  30.460718   \n",
       "...                                                  ...        ...   \n",
       "33391  3501 Biscayne Blvd, Miami, FL 33137, United St...  25.810000   \n",
       "33392  3501 Biscayne Blvd, Miami, FL 33137, United St...  25.810000   \n",
       "33393  3501 Biscayne Blvd, Miami, FL 33137, United St...  25.810000   \n",
       "33394  3501 Biscayne Blvd, Miami, FL 33137, United St...  25.810000   \n",
       "33395  3501 Biscayne Blvd, Miami, FL 33137, United St...  25.810000   \n",
       "\n",
       "       longitude rating_count   review_time  \\\n",
       "0     -97.792874        1,240  3 months ago   \n",
       "1     -97.792874        1,240    5 days ago   \n",
       "2     -97.792874        1,240    5 days ago   \n",
       "3     -97.792874        1,240   a month ago   \n",
       "4     -97.792874        1,240  2 months ago   \n",
       "...          ...          ...           ...   \n",
       "33391 -80.189098        2,810   4 years ago   \n",
       "33392 -80.189098        2,810    a year ago   \n",
       "33393 -80.189098        2,810    a year ago   \n",
       "33394 -80.189098        2,810   5 years ago   \n",
       "33395 -80.189098        2,810   2 years ago   \n",
       "\n",
       "                                                  review   rating  \n",
       "0      look like someone spit food normal transaction...   1 star  \n",
       "1      itd mcdonalds far food atmosphere go staff mak...  4 stars  \n",
       "2      made mobile order got speaker checked line mov...   1 star  \n",
       "3      mc crispy chicken sandwich customer service qu...  5 stars  \n",
       "4      repeat order 3 time drive thru still manage me...   1 star  \n",
       "...                                                  ...      ...  \n",
       "33391                                      treated badly   1 star  \n",
       "33392                                       service good  5 stars  \n",
       "33393                               remove hunger enough  4 stars  \n",
       "33394                       good lately become expensive  5 stars  \n",
       "33395                                     took good care  5 stars  \n",
       "\n",
       "[33396 rows x 10 columns]"
      ]
     },
     "execution_count": 16,
     "metadata": {},
     "output_type": "execute_result"
    }
   ],
   "source": [
    "pd.read_csv('mcd_cleaning.csv',encoding='latin-1')"
   ]
  },
  {
   "cell_type": "code",
   "execution_count": 17,
   "id": "e0adb702",
   "metadata": {},
   "outputs": [],
   "source": [
    "import pandas as pd\n",
    "\n",
    "# Baca file CSV ke dalam DataFrame\n",
    "pd.read_csv('mcd_cleaning.csv',encoding='latin-1')\n",
    "\n",
    "# Buat pemetaan kepuasan\n",
    "pemetaan_kepuasan = {\n",
    "    '1 star': 'Very Negative',\n",
    "    '2 stars': 'Negative',\n",
    "    '3 stars': 'Neutral',\n",
    "    '4 stars': 'Positive',\n",
    "    '5 stars': 'Very Positive'\n",
    "}\n",
    "\n",
    "# Terapkan pemetaan ke kolom \"rating\" dan buat kolom \"kepuasan\"\n",
    "df['kepuasan'] = df['rating'].map(pemetaan_kepuasan)\n",
    "\n",
    "# Simpan DataFrame ke file CSV baru\n",
    "df.to_csv(\"mcd_with_kepuasan.csv\", index=False)\n"
   ]
  },
  {
   "cell_type": "markdown",
   "id": "50d83959",
   "metadata": {},
   "source": [
    "# **Feature Exctraction the Datasets**"
   ]
  },
  {
   "cell_type": "code",
   "execution_count": 18,
   "id": "e13b092e",
   "metadata": {},
   "outputs": [
    {
     "data": {
      "text/html": [
       "<div>\n",
       "<style scoped>\n",
       "    .dataframe tbody tr th:only-of-type {\n",
       "        vertical-align: middle;\n",
       "    }\n",
       "\n",
       "    .dataframe tbody tr th {\n",
       "        vertical-align: top;\n",
       "    }\n",
       "\n",
       "    .dataframe thead th {\n",
       "        text-align: right;\n",
       "    }\n",
       "</style>\n",
       "<table border=\"1\" class=\"dataframe\">\n",
       "  <thead>\n",
       "    <tr style=\"text-align: right;\">\n",
       "      <th></th>\n",
       "      <th>reviewer_id</th>\n",
       "      <th>store_name</th>\n",
       "      <th>category</th>\n",
       "      <th>store_address</th>\n",
       "      <th>latitude</th>\n",
       "      <th>longitude</th>\n",
       "      <th>rating_count</th>\n",
       "      <th>review_time</th>\n",
       "      <th>review</th>\n",
       "      <th>rating</th>\n",
       "      <th>kepuasan</th>\n",
       "    </tr>\n",
       "  </thead>\n",
       "  <tbody>\n",
       "    <tr>\n",
       "      <th>0</th>\n",
       "      <td>1</td>\n",
       "      <td>McDonald's</td>\n",
       "      <td>Fast food restaurant</td>\n",
       "      <td>13749 US-183 Hwy, Austin, TX 78750, United States</td>\n",
       "      <td>30.460718</td>\n",
       "      <td>-97.792874</td>\n",
       "      <td>1,240</td>\n",
       "      <td>3 months ago</td>\n",
       "      <td>look like someone spit food normal transaction...</td>\n",
       "      <td>1 star</td>\n",
       "      <td>Very Negative</td>\n",
       "    </tr>\n",
       "    <tr>\n",
       "      <th>1</th>\n",
       "      <td>2</td>\n",
       "      <td>McDonald's</td>\n",
       "      <td>Fast food restaurant</td>\n",
       "      <td>13749 US-183 Hwy, Austin, TX 78750, United States</td>\n",
       "      <td>30.460718</td>\n",
       "      <td>-97.792874</td>\n",
       "      <td>1,240</td>\n",
       "      <td>5 days ago</td>\n",
       "      <td>itd mcdonalds far food atmosphere go staff mak...</td>\n",
       "      <td>4 stars</td>\n",
       "      <td>Positive</td>\n",
       "    </tr>\n",
       "    <tr>\n",
       "      <th>2</th>\n",
       "      <td>3</td>\n",
       "      <td>McDonald's</td>\n",
       "      <td>Fast food restaurant</td>\n",
       "      <td>13749 US-183 Hwy, Austin, TX 78750, United States</td>\n",
       "      <td>30.460718</td>\n",
       "      <td>-97.792874</td>\n",
       "      <td>1,240</td>\n",
       "      <td>5 days ago</td>\n",
       "      <td>made mobile order got speaker checked line mov...</td>\n",
       "      <td>1 star</td>\n",
       "      <td>Very Negative</td>\n",
       "    </tr>\n",
       "    <tr>\n",
       "      <th>3</th>\n",
       "      <td>4</td>\n",
       "      <td>McDonald's</td>\n",
       "      <td>Fast food restaurant</td>\n",
       "      <td>13749 US-183 Hwy, Austin, TX 78750, United States</td>\n",
       "      <td>30.460718</td>\n",
       "      <td>-97.792874</td>\n",
       "      <td>1,240</td>\n",
       "      <td>a month ago</td>\n",
       "      <td>mc crispy chicken sandwich customer service qu...</td>\n",
       "      <td>5 stars</td>\n",
       "      <td>Very Positive</td>\n",
       "    </tr>\n",
       "    <tr>\n",
       "      <th>4</th>\n",
       "      <td>5</td>\n",
       "      <td>McDonald's</td>\n",
       "      <td>Fast food restaurant</td>\n",
       "      <td>13749 US-183 Hwy, Austin, TX 78750, United States</td>\n",
       "      <td>30.460718</td>\n",
       "      <td>-97.792874</td>\n",
       "      <td>1,240</td>\n",
       "      <td>2 months ago</td>\n",
       "      <td>repeat order 3 time drive thru still manage me...</td>\n",
       "      <td>1 star</td>\n",
       "      <td>Very Negative</td>\n",
       "    </tr>\n",
       "  </tbody>\n",
       "</table>\n",
       "</div>"
      ],
      "text/plain": [
       "   reviewer_id  store_name              category  \\\n",
       "0            1  McDonald's  Fast food restaurant   \n",
       "1            2  McDonald's  Fast food restaurant   \n",
       "2            3  McDonald's  Fast food restaurant   \n",
       "3            4  McDonald's  Fast food restaurant   \n",
       "4            5  McDonald's  Fast food restaurant   \n",
       "\n",
       "                                       store_address  latitude   longitude  \\\n",
       "0  13749 US-183 Hwy, Austin, TX 78750, United States  30.460718 -97.792874   \n",
       "1  13749 US-183 Hwy, Austin, TX 78750, United States  30.460718 -97.792874   \n",
       "2  13749 US-183 Hwy, Austin, TX 78750, United States  30.460718 -97.792874   \n",
       "3  13749 US-183 Hwy, Austin, TX 78750, United States  30.460718 -97.792874   \n",
       "4  13749 US-183 Hwy, Austin, TX 78750, United States  30.460718 -97.792874   \n",
       "\n",
       "  rating_count   review_time  \\\n",
       "0        1,240  3 months ago   \n",
       "1        1,240    5 days ago   \n",
       "2        1,240    5 days ago   \n",
       "3        1,240   a month ago   \n",
       "4        1,240  2 months ago   \n",
       "\n",
       "                                              review   rating       kepuasan  \n",
       "0  look like someone spit food normal transaction...   1 star  Very Negative  \n",
       "1  itd mcdonalds far food atmosphere go staff mak...  4 stars       Positive  \n",
       "2  made mobile order got speaker checked line mov...   1 star  Very Negative  \n",
       "3  mc crispy chicken sandwich customer service qu...  5 stars  Very Positive  \n",
       "4  repeat order 3 time drive thru still manage me...   1 star  Very Negative  "
      ]
     },
     "execution_count": 18,
     "metadata": {},
     "output_type": "execute_result"
    }
   ],
   "source": [
    "df.head(5)"
   ]
  },
  {
   "cell_type": "code",
   "execution_count": 19,
   "id": "14eed15c",
   "metadata": {},
   "outputs": [
    {
     "name": "stdout",
     "output_type": "stream",
     "text": [
      "Before removal:\n",
      "reviewer_id     0\n",
      "review         56\n",
      "rating          0\n",
      "dtype: int64\n",
      "After removal:\n",
      "reviewer_id    0\n",
      "review         0\n",
      "rating         0\n",
      "dtype: int64\n"
     ]
    }
   ],
   "source": [
    "import pandas as pd\n",
    "from sklearn.model_selection import train_test_split\n",
    "\n",
    "# Load your dataset\n",
    "df = pd.read_csv(\"mcd_with_kepuasan.csv\")\n",
    "\n",
    "# Separate features and target variable\n",
    "X = df[['reviewer_id','review','rating']]\n",
    "y = df['kepuasan']\n",
    "\n",
    "# Split the data into training and testing sets\n",
    "X_train, X_test, y_train, y_test = train_test_split(X, y, test_size=0.2, random_state=42)\n",
    "\n",
    "# Display the number of missing values in each column of X_train before removal\n",
    "print(\"Before removal:\")\n",
    "print(X_train.isnull().sum())\n",
    "\n",
    "# Remove rows with missing values in X_train\n",
    "X_train.dropna(inplace=True)\n",
    "\n",
    "# Display the number of missing values in each column of X_train after removal\n",
    "print(\"After removal:\")\n",
    "print(X_train.isnull().sum())"
   ]
  },
  {
   "cell_type": "code",
   "execution_count": 20,
   "id": "a256fef5",
   "metadata": {},
   "outputs": [],
   "source": [
    "df.to_csv('datamcd.csv', index=False)"
   ]
  },
  {
   "cell_type": "code",
   "execution_count": 21,
   "id": "6e96d8d3",
   "metadata": {
    "execution": {
     "iopub.execute_input": "2023-08-20T07:13:28.278365Z",
     "iopub.status.busy": "2023-08-20T07:13:28.277678Z",
     "iopub.status.idle": "2023-08-20T07:13:28.390577Z",
     "shell.execute_reply": "2023-08-20T07:13:28.388924Z"
    },
    "papermill": {
     "duration": 0.129959,
     "end_time": "2023-08-20T07:13:28.393380",
     "exception": false,
     "start_time": "2023-08-20T07:13:28.263421",
     "status": "completed"
    },
    "tags": []
   },
   "outputs": [
    {
     "name": "stderr",
     "output_type": "stream",
     "text": [
      "[nltk_data] Downloading package vader_lexicon to\n",
      "[nltk_data]     /Users/hendracahyonoh/nltk_data...\n",
      "[nltk_data]   Package vader_lexicon is already up-to-date!\n"
     ]
    }
   ],
   "source": [
    "import nltk     #Imported the Natural Language Toolkit (NLTK) library.\n",
    "nltk.download('vader_lexicon')   #Downloaded the VADER lexicon for sentiment analysis.\n",
    "from nltk.sentiment.vader import SentimentIntensityAnalyzer   #Imported the SentimentIntensityAnalyzer class from the NLTK library's VADER sentiment analysis module."
   ]
  },
  {
   "cell_type": "markdown",
   "id": "901069db",
   "metadata": {
    "papermill": {
     "duration": 0.01307,
     "end_time": "2023-08-20T07:13:28.419208",
     "exception": false,
     "start_time": "2023-08-20T07:13:28.406138",
     "status": "completed"
    },
    "tags": []
   },
   "source": [
    "**I employed the widely-used SentimentIntensityAnalyzer to compute sentiment scores for every review. This tool gauges positivity, negativity, and neutrality within the text, unveiling its underlying sentiment.**"
   ]
  },
  {
   "cell_type": "code",
   "execution_count": 22,
   "id": "e9305a9b",
   "metadata": {
    "execution": {
     "iopub.execute_input": "2023-08-20T07:13:28.448082Z",
     "iopub.status.busy": "2023-08-20T07:13:28.447375Z",
     "iopub.status.idle": "2023-08-20T07:13:28.467784Z",
     "shell.execute_reply": "2023-08-20T07:13:28.466820Z"
    },
    "papermill": {
     "duration": 0.038163,
     "end_time": "2023-08-20T07:13:28.470643",
     "exception": false,
     "start_time": "2023-08-20T07:13:28.432480",
     "status": "completed"
    },
    "tags": []
   },
   "outputs": [],
   "source": [
    "sia = SentimentIntensityAnalyzer()"
   ]
  },
  {
   "cell_type": "code",
   "execution_count": 23,
   "id": "049964c8",
   "metadata": {
    "execution": {
     "iopub.execute_input": "2023-08-20T07:13:28.497780Z",
     "iopub.status.busy": "2023-08-20T07:13:28.497102Z",
     "iopub.status.idle": "2023-08-20T07:13:41.270738Z",
     "shell.execute_reply": "2023-08-20T07:13:41.269453Z"
    },
    "papermill": {
     "duration": 12.790737,
     "end_time": "2023-08-20T07:13:41.273805",
     "exception": false,
     "start_time": "2023-08-20T07:13:28.483068",
     "status": "completed"
    },
    "tags": []
   },
   "outputs": [],
   "source": [
    "# # Performing sentiment analysis on each review\n",
    "# sentiments = []\n",
    "# for review in df['review']:\n",
    "#     sentiment = sia.polarity_scores(review)\n",
    "#     sentiments.append(sentiment)\n",
    "\n",
    "sentiments = []\n",
    "for review in df['review']:\n",
    "    if isinstance(review, str):\n",
    "        sentiment = sia.polarity_scores(review)\n",
    "        sentiments.append(sentiment)\n",
    "    else:\n",
    "        # Handle NaN values, for example, by appending a neutral sentiment\n",
    "        sentiments.append({'compound': 0.0, 'neg': 0.0, 'neu': 1.0, 'pos': 0.0})\n"
   ]
  },
  {
   "cell_type": "markdown",
   "id": "4ff2eba3",
   "metadata": {
    "papermill": {
     "duration": 0.012044,
     "end_time": "2023-08-20T07:13:41.298753",
     "exception": false,
     "start_time": "2023-08-20T07:13:41.286709",
     "status": "completed"
    },
    "tags": []
   },
   "source": [
    "**Sentiment Classification**\n",
    "\n",
    "*Using the compound score, I sorted reviews into sentiment groups: above a set threshold (e.g., 0.5) as positive, below another (e.g., -0.5) as negative, and those in-between as neutral.*"
   ]
  },
  {
   "cell_type": "code",
   "execution_count": 24,
   "id": "22d31bbe",
   "metadata": {
    "execution": {
     "iopub.execute_input": "2023-08-20T07:13:41.325627Z",
     "iopub.status.busy": "2023-08-20T07:13:41.324956Z",
     "iopub.status.idle": "2023-08-20T07:13:41.347253Z",
     "shell.execute_reply": "2023-08-20T07:13:41.345939Z"
    },
    "papermill": {
     "duration": 0.039368,
     "end_time": "2023-08-20T07:13:41.350205",
     "exception": false,
     "start_time": "2023-08-20T07:13:41.310837",
     "status": "completed"
    },
    "tags": []
   },
   "outputs": [],
   "source": [
    "sentiment_labels = []\n",
    "\n",
    "for sentiment in sentiments:\n",
    "    compound_score = sentiment['compound']\n",
    "    if compound_score >= 0.05:\n",
    "        sentiment_labels.append('Positive')\n",
    "    elif compound_score <= -0.05:\n",
    "        sentiment_labels.append('Negative')\n",
    "    else:\n",
    "        sentiment_labels.append('Neutral')"
   ]
  },
  {
   "cell_type": "code",
   "execution_count": 25,
   "id": "1998d647",
   "metadata": {
    "execution": {
     "iopub.execute_input": "2023-08-20T07:13:41.377034Z",
     "iopub.status.busy": "2023-08-20T07:13:41.376289Z",
     "iopub.status.idle": "2023-08-20T07:13:41.401019Z",
     "shell.execute_reply": "2023-08-20T07:13:41.399418Z"
    },
    "papermill": {
     "duration": 0.041613,
     "end_time": "2023-08-20T07:13:41.403981",
     "exception": false,
     "start_time": "2023-08-20T07:13:41.362368",
     "status": "completed"
    },
    "tags": []
   },
   "outputs": [
    {
     "data": {
      "text/html": [
       "<div>\n",
       "<style scoped>\n",
       "    .dataframe tbody tr th:only-of-type {\n",
       "        vertical-align: middle;\n",
       "    }\n",
       "\n",
       "    .dataframe tbody tr th {\n",
       "        vertical-align: top;\n",
       "    }\n",
       "\n",
       "    .dataframe thead th {\n",
       "        text-align: right;\n",
       "    }\n",
       "</style>\n",
       "<table border=\"1\" class=\"dataframe\">\n",
       "  <thead>\n",
       "    <tr style=\"text-align: right;\">\n",
       "      <th></th>\n",
       "      <th>review</th>\n",
       "      <th>sentiment</th>\n",
       "    </tr>\n",
       "  </thead>\n",
       "  <tbody>\n",
       "    <tr>\n",
       "      <th>0</th>\n",
       "      <td>look like someone spit food normal transaction...</td>\n",
       "      <td>Positive</td>\n",
       "    </tr>\n",
       "    <tr>\n",
       "      <th>1</th>\n",
       "      <td>itd mcdonalds far food atmosphere go staff mak...</td>\n",
       "      <td>Positive</td>\n",
       "    </tr>\n",
       "    <tr>\n",
       "      <th>2</th>\n",
       "      <td>made mobile order got speaker checked line mov...</td>\n",
       "      <td>Negative</td>\n",
       "    </tr>\n",
       "    <tr>\n",
       "      <th>3</th>\n",
       "      <td>mc crispy chicken sandwich customer service qu...</td>\n",
       "      <td>Neutral</td>\n",
       "    </tr>\n",
       "    <tr>\n",
       "      <th>4</th>\n",
       "      <td>repeat order 3 time drive thru still manage me...</td>\n",
       "      <td>Negative</td>\n",
       "    </tr>\n",
       "    <tr>\n",
       "      <th>...</th>\n",
       "      <td>...</td>\n",
       "      <td>...</td>\n",
       "    </tr>\n",
       "    <tr>\n",
       "      <th>33391</th>\n",
       "      <td>treated badly</td>\n",
       "      <td>Negative</td>\n",
       "    </tr>\n",
       "    <tr>\n",
       "      <th>33392</th>\n",
       "      <td>service good</td>\n",
       "      <td>Positive</td>\n",
       "    </tr>\n",
       "    <tr>\n",
       "      <th>33393</th>\n",
       "      <td>remove hunger enough</td>\n",
       "      <td>Negative</td>\n",
       "    </tr>\n",
       "    <tr>\n",
       "      <th>33394</th>\n",
       "      <td>good lately become expensive</td>\n",
       "      <td>Positive</td>\n",
       "    </tr>\n",
       "    <tr>\n",
       "      <th>33395</th>\n",
       "      <td>took good care</td>\n",
       "      <td>Positive</td>\n",
       "    </tr>\n",
       "  </tbody>\n",
       "</table>\n",
       "<p>33396 rows × 2 columns</p>\n",
       "</div>"
      ],
      "text/plain": [
       "                                                  review sentiment\n",
       "0      look like someone spit food normal transaction...  Positive\n",
       "1      itd mcdonalds far food atmosphere go staff mak...  Positive\n",
       "2      made mobile order got speaker checked line mov...  Negative\n",
       "3      mc crispy chicken sandwich customer service qu...   Neutral\n",
       "4      repeat order 3 time drive thru still manage me...  Negative\n",
       "...                                                  ...       ...\n",
       "33391                                      treated badly  Negative\n",
       "33392                                       service good  Positive\n",
       "33393                               remove hunger enough  Negative\n",
       "33394                       good lately become expensive  Positive\n",
       "33395                                     took good care  Positive\n",
       "\n",
       "[33396 rows x 2 columns]"
      ]
     },
     "execution_count": 25,
     "metadata": {},
     "output_type": "execute_result"
    }
   ],
   "source": [
    "# Add the sentiment labels to the DataFrame\n",
    "df['sentiment'] = sentiment_labels\n",
    "df[['review', 'sentiment']]"
   ]
  },
  {
   "cell_type": "markdown",
   "id": "d043fc69",
   "metadata": {},
   "source": [
    "Skip N-gram"
   ]
  },
  {
   "cell_type": "code",
   "execution_count": 26,
   "id": "346bf6e2",
   "metadata": {},
   "outputs": [],
   "source": [
    "import pandas as pd\n",
    "from nltk.util import skipgrams\n",
    "from sklearn.feature_extraction.text import CountVectorizer\n",
    "\n",
    "# Ganti 'McDonald.csv' dengan lokasi file CSV Anda\n",
    "file_path = 'datamcd.csv'\n",
    "\n",
    "# Baca dataset dari file CSV\n",
    "data = pd.read_csv(file_path)\n",
    "\n",
    "# Pilih kolom 'review'\n",
    "reviews = data['review']\n",
    "\n",
    "# Gantikan nilai NaN dengan string kosong\n",
    "reviews = reviews.fillna('')\n",
    "\n",
    "# Fungsi untuk menghasilkan skip n-gram\n",
    "def generate_skip_ngrams(text, n, k):\n",
    "    tokens = text.split()\n",
    "    skip_grams = list(skipgrams(tokens, n, k))\n",
    "    skip_grams = [' '.join(gram) for gram in skip_grams]\n",
    "    return ' '.join(skip_grams)\n",
    "\n",
    "# Tentukan n dan k untuk skip n-gram\n",
    "n = 2  # Jumlah kata dalam n-gram\n",
    "k = 2  # Jumlah kata yang dilewati\n",
    "\n",
    "# Buat kolom baru dengan skip n-gram\n",
    "data['skip_ngrams'] = reviews.apply(lambda x: generate_skip_ngrams(x, n, k))\n",
    "\n",
    "# Inisialisasi objek CountVectorizer\n",
    "vectorizer = CountVectorizer(max_features=1000)  # Sesuaikan dengan jumlah fitur yang diinginkan\n",
    "\n",
    "# Transformasi skip n-gram ke matriks fitur\n",
    "X = vectorizer.fit_transform(data['skip_ngrams'])\n",
    "\n",
    "# Hasil ekstraksi fitur dalam bentuk matriks\n",
    "feature_matrix = X.toarray()\n"
   ]
  },
  {
   "cell_type": "code",
   "execution_count": 27,
   "id": "0f2d988f",
   "metadata": {},
   "outputs": [
    {
     "name": "stdout",
     "output_type": "stream",
     "text": [
      "Matriks Fitur Skip n-gram:\n",
      "       10  100  11  12  15  1st  20  24  247  25  ...  yelled  yelling  yes  \\\n",
      "0       0    0   0   0   0    0   0   0    0   0  ...       0        0    0   \n",
      "1       0    0   0   0   0    0   0   0    0   0  ...       0        0    0   \n",
      "2       0    0   0   0   0    0   0   0    0   0  ...       0        0    0   \n",
      "3       0    0   0   0   0    0   0   0    0   0  ...       0        0    0   \n",
      "4       0    0   0   0   0    0   0   0    0   0  ...       0        0    0   \n",
      "...    ..  ...  ..  ..  ..  ...  ..  ..  ...  ..  ...     ...      ...  ...   \n",
      "33391   0    0   0   0   0    0   0   0    0   0  ...       0        0    0   \n",
      "33392   0    0   0   0   0    0   0   0    0   0  ...       0        0    0   \n",
      "33393   0    0   0   0   0    0   0   0    0   0  ...       0        0    0   \n",
      "33394   0    0   0   0   0    0   0   0    0   0  ...       0        0    0   \n",
      "33395   0    0   0   0   0    0   0   0    0   0  ...       0        0    0   \n",
      "\n",
      "       yet  youd  youll  young  youre  zero  zoo  \n",
      "0        0     0      0      0      0     0    0  \n",
      "1        0     0      0      0      0     0    0  \n",
      "2        0     0      0      0      0     0    0  \n",
      "3        0     0      0      0      0     0    0  \n",
      "4        0     0      0      0      0     0    0  \n",
      "...    ...   ...    ...    ...    ...   ...  ...  \n",
      "33391    0     0      0      0      0     0    0  \n",
      "33392    0     0      0      0      0     0    0  \n",
      "33393    0     0      0      0      0     0    0  \n",
      "33394    0     0      0      0      0     0    0  \n",
      "33395    0     0      0      0      0     0    0  \n",
      "\n",
      "[33396 rows x 1000 columns]\n"
     ]
    }
   ],
   "source": [
    "# Menampilkan hasil ekstraksi fitur dalam bentuk DataFrame\n",
    "feature_names = vectorizer.get_feature_names_out()\n",
    "feature_df = pd.DataFrame(data=feature_matrix, columns=feature_names)\n",
    "print(\"Matriks Fitur Skip n-gram:\")\n",
    "print(feature_df)\n"
   ]
  },
  {
   "cell_type": "code",
   "execution_count": 28,
   "id": "f6759966",
   "metadata": {},
   "outputs": [
    {
     "name": "stdout",
     "output_type": "stream",
     "text": [
      "Akurasi: 60.16%\n"
     ]
    }
   ],
   "source": [
    "import pandas as pd\n",
    "from nltk.util import skipgrams\n",
    "from sklearn.feature_extraction.text import CountVectorizer\n",
    "from sklearn.model_selection import train_test_split\n",
    "from sklearn.ensemble import RandomForestClassifier\n",
    "from sklearn.metrics import accuracy_score\n",
    "\n",
    "# Baca dataset dari file CSV\n",
    "file_path = 'datamcd.csv'  # Ganti dengan lokasi file CSV Anda\n",
    "data = pd.read_csv(file_path)\n",
    "\n",
    "# Pilih kolom 'review' dan 'sentimen'\n",
    "reviews = data['review']\n",
    "sentiments = data['kepuasan']  # Sesuaikan dengan nama kolom sentimen di dataset Anda\n",
    "\n",
    "# Gantikan nilai NaN dengan string kosong\n",
    "reviews = reviews.fillna('')\n",
    "\n",
    "# Fungsi untuk menghasilkan skip n-gram\n",
    "def generate_skip_ngrams(text, n, k):\n",
    "    tokens = text.split()\n",
    "    skip_grams = list(skipgrams(tokens, n, k))\n",
    "    skip_grams = [' '.join(gram) for gram in skip_grams]\n",
    "    return ' '.join(skip_grams)\n",
    "\n",
    "# Tentukan n dan k untuk skip n-gram\n",
    "n = 2  # Jumlah kata dalam n-gram\n",
    "k = 2  # Jumlah kata yang dilewati\n",
    "\n",
    "# Buat kolom baru dengan skip n-gram\n",
    "data['skip_ngrams'] = reviews.apply(lambda x: generate_skip_ngrams(x, n, k))\n",
    "\n",
    "# Inisialisasi objek CountVectorizer\n",
    "vectorizer = CountVectorizer(max_features=1000)  # Sesuaikan dengan jumlah fitur yang diinginkan\n",
    "\n",
    "# Transformasi skip n-gram ke matriks fitur\n",
    "X = vectorizer.fit_transform(data['skip_ngrams'])\n",
    "\n",
    "# Split data menjadi data latih dan data uji\n",
    "X_train, X_test, y_train, y_test = train_test_split(X, sentiments, test_size=0.2, random_state=42)\n",
    "\n",
    "# Inisialisasi dan melatih model klasifikasi (misalnya, RandomForestClassifier)\n",
    "classifier = RandomForestClassifier(n_estimators=100, random_state=42)\n",
    "classifier.fit(X_train, y_train)\n",
    "\n",
    "# Melakukan prediksi pada data uji\n",
    "y_pred = classifier.predict(X_test)\n",
    "\n",
    "# Menghitung akurasi\n",
    "accuracy = accuracy_score(y_test, y_pred)\n",
    "print(\"Akurasi: {:.2f}%\".format(accuracy * 100))\n"
   ]
  },
  {
   "cell_type": "markdown",
   "id": "984e4dbd",
   "metadata": {},
   "source": [
    "TF IDf"
   ]
  },
  {
   "cell_type": "code",
   "execution_count": 29,
   "id": "84ab0065",
   "metadata": {},
   "outputs": [],
   "source": [
    "import string\n",
    "from sklearn.pipeline import Pipeline\n",
    "import pandas as pd\n",
    "import numpy as np\n",
    "import re"
   ]
  },
  {
   "cell_type": "code",
   "execution_count": 30,
   "id": "570d204f",
   "metadata": {},
   "outputs": [
    {
     "data": {
      "text/html": [
       "<div>\n",
       "<style scoped>\n",
       "    .dataframe tbody tr th:only-of-type {\n",
       "        vertical-align: middle;\n",
       "    }\n",
       "\n",
       "    .dataframe tbody tr th {\n",
       "        vertical-align: top;\n",
       "    }\n",
       "\n",
       "    .dataframe thead th {\n",
       "        text-align: right;\n",
       "    }\n",
       "</style>\n",
       "<table border=\"1\" class=\"dataframe\">\n",
       "  <thead>\n",
       "    <tr style=\"text-align: right;\">\n",
       "      <th></th>\n",
       "      <th>reviewer_id</th>\n",
       "      <th>store_name</th>\n",
       "      <th>category</th>\n",
       "      <th>store_address</th>\n",
       "      <th>latitude</th>\n",
       "      <th>longitude</th>\n",
       "      <th>rating_count</th>\n",
       "      <th>review_time</th>\n",
       "      <th>review</th>\n",
       "      <th>rating</th>\n",
       "      <th>kepuasan</th>\n",
       "    </tr>\n",
       "  </thead>\n",
       "  <tbody>\n",
       "    <tr>\n",
       "      <th>0</th>\n",
       "      <td>1</td>\n",
       "      <td>McDonald's</td>\n",
       "      <td>Fast food restaurant</td>\n",
       "      <td>13749 US-183 Hwy, Austin, TX 78750, United States</td>\n",
       "      <td>30.460718</td>\n",
       "      <td>-97.792874</td>\n",
       "      <td>1,240</td>\n",
       "      <td>3 months ago</td>\n",
       "      <td>look like someone spit food normal transaction...</td>\n",
       "      <td>1 star</td>\n",
       "      <td>Very Negative</td>\n",
       "    </tr>\n",
       "    <tr>\n",
       "      <th>1</th>\n",
       "      <td>2</td>\n",
       "      <td>McDonald's</td>\n",
       "      <td>Fast food restaurant</td>\n",
       "      <td>13749 US-183 Hwy, Austin, TX 78750, United States</td>\n",
       "      <td>30.460718</td>\n",
       "      <td>-97.792874</td>\n",
       "      <td>1,240</td>\n",
       "      <td>5 days ago</td>\n",
       "      <td>itd mcdonalds far food atmosphere go staff mak...</td>\n",
       "      <td>4 stars</td>\n",
       "      <td>Positive</td>\n",
       "    </tr>\n",
       "    <tr>\n",
       "      <th>2</th>\n",
       "      <td>3</td>\n",
       "      <td>McDonald's</td>\n",
       "      <td>Fast food restaurant</td>\n",
       "      <td>13749 US-183 Hwy, Austin, TX 78750, United States</td>\n",
       "      <td>30.460718</td>\n",
       "      <td>-97.792874</td>\n",
       "      <td>1,240</td>\n",
       "      <td>5 days ago</td>\n",
       "      <td>made mobile order got speaker checked line mov...</td>\n",
       "      <td>1 star</td>\n",
       "      <td>Very Negative</td>\n",
       "    </tr>\n",
       "    <tr>\n",
       "      <th>3</th>\n",
       "      <td>4</td>\n",
       "      <td>McDonald's</td>\n",
       "      <td>Fast food restaurant</td>\n",
       "      <td>13749 US-183 Hwy, Austin, TX 78750, United States</td>\n",
       "      <td>30.460718</td>\n",
       "      <td>-97.792874</td>\n",
       "      <td>1,240</td>\n",
       "      <td>a month ago</td>\n",
       "      <td>mc crispy chicken sandwich customer service qu...</td>\n",
       "      <td>5 stars</td>\n",
       "      <td>Very Positive</td>\n",
       "    </tr>\n",
       "    <tr>\n",
       "      <th>4</th>\n",
       "      <td>5</td>\n",
       "      <td>McDonald's</td>\n",
       "      <td>Fast food restaurant</td>\n",
       "      <td>13749 US-183 Hwy, Austin, TX 78750, United States</td>\n",
       "      <td>30.460718</td>\n",
       "      <td>-97.792874</td>\n",
       "      <td>1,240</td>\n",
       "      <td>2 months ago</td>\n",
       "      <td>repeat order 3 time drive thru still manage me...</td>\n",
       "      <td>1 star</td>\n",
       "      <td>Very Negative</td>\n",
       "    </tr>\n",
       "  </tbody>\n",
       "</table>\n",
       "</div>"
      ],
      "text/plain": [
       "   reviewer_id  store_name              category  \\\n",
       "0            1  McDonald's  Fast food restaurant   \n",
       "1            2  McDonald's  Fast food restaurant   \n",
       "2            3  McDonald's  Fast food restaurant   \n",
       "3            4  McDonald's  Fast food restaurant   \n",
       "4            5  McDonald's  Fast food restaurant   \n",
       "\n",
       "                                       store_address  latitude   longitude  \\\n",
       "0  13749 US-183 Hwy, Austin, TX 78750, United States  30.460718 -97.792874   \n",
       "1  13749 US-183 Hwy, Austin, TX 78750, United States  30.460718 -97.792874   \n",
       "2  13749 US-183 Hwy, Austin, TX 78750, United States  30.460718 -97.792874   \n",
       "3  13749 US-183 Hwy, Austin, TX 78750, United States  30.460718 -97.792874   \n",
       "4  13749 US-183 Hwy, Austin, TX 78750, United States  30.460718 -97.792874   \n",
       "\n",
       "  rating_count   review_time  \\\n",
       "0        1,240  3 months ago   \n",
       "1        1,240    5 days ago   \n",
       "2        1,240    5 days ago   \n",
       "3        1,240   a month ago   \n",
       "4        1,240  2 months ago   \n",
       "\n",
       "                                              review   rating       kepuasan  \n",
       "0  look like someone spit food normal transaction...   1 star  Very Negative  \n",
       "1  itd mcdonalds far food atmosphere go staff mak...  4 stars       Positive  \n",
       "2  made mobile order got speaker checked line mov...   1 star  Very Negative  \n",
       "3  mc crispy chicken sandwich customer service qu...  5 stars  Very Positive  \n",
       "4  repeat order 3 time drive thru still manage me...   1 star  Very Negative  "
      ]
     },
     "execution_count": 30,
     "metadata": {},
     "output_type": "execute_result"
    }
   ],
   "source": [
    "data_clean = pd.read_csv('datamcd.csv', encoding='latin1')\n",
    "data_clean.head()"
   ]
  },
  {
   "cell_type": "code",
   "execution_count": 31,
   "id": "57a0ac1b",
   "metadata": {},
   "outputs": [
    {
     "data": {
      "text/plain": [
       "reviewer_id         int64\n",
       "store_name         object\n",
       "category           object\n",
       "store_address      object\n",
       "latitude          float64\n",
       "longitude         float64\n",
       "rating_count       object\n",
       "review_time        object\n",
       "review             string\n",
       "rating             object\n",
       "kepuasan         category\n",
       "dtype: object"
      ]
     },
     "execution_count": 31,
     "metadata": {},
     "output_type": "execute_result"
    }
   ],
   "source": [
    "data_clean = data_clean.astype({'kepuasan' : 'category'})\n",
    "data_clean = data_clean.astype({'review' : 'string'})\n",
    "data_clean.dtypes"
   ]
  },
  {
   "cell_type": "code",
   "execution_count": 32,
   "id": "ad7e5a88",
   "metadata": {},
   "outputs": [
    {
     "name": "stdout",
     "output_type": "stream",
     "text": [
      "  (0, 1763)\t0.13817653093164803\n",
      "  (0, 3179)\t0.18587435956239112\n",
      "  (0, 12770)\t0.17414289154767396\n",
      "  (0, 12676)\t0.3156789710669121\n",
      "  (0, 14380)\t0.3451742400450492\n",
      "  (0, 8554)\t0.3048479773903537\n",
      "  (0, 13162)\t0.17792440165047552\n",
      "  (0, 13564)\t0.195517566207168\n",
      "  (0, 6873)\t0.15271475345326138\n",
      "  (0, 4631)\t0.1466765167671437\n",
      "  (0, 14182)\t0.15606105128674255\n",
      "  (0, 4406)\t0.12765083313532882\n",
      "  (0, 10066)\t0.19961850571001438\n",
      "  (0, 2888)\t0.27628581312161543\n",
      "  (0, 4979)\t0.18836542531178355\n",
      "  (0, 13468)\t0.2710543517820783\n",
      "  (0, 9067)\t0.20662699384098845\n",
      "  (0, 5528)\t0.16907766318913775\n",
      "  (0, 12339)\t0.27628581312161543\n",
      "  (0, 12180)\t0.1800435264365254\n",
      "  (0, 7774)\t0.11931056736797457\n",
      "  (0, 7917)\t0.17184810603125733\n",
      "  (1, 9943)\t0.13191733434581\n",
      "  (1, 5251)\t0.13915802730100066\n",
      "  (1, 8152)\t0.20510705317189215\n",
      "  :\t:\n",
      "  (33387, 7870)\t0.3558375892686764\n",
      "  (33387, 11635)\t0.24429480404614728\n",
      "  (33387, 1641)\t0.5828209431906526\n",
      "  (33388, 6046)\t0.4067251297876866\n",
      "  (33388, 1663)\t0.833368186623915\n",
      "  (33388, 5528)\t0.3742621198069035\n",
      "  (33389, 7863)\t0.4656155598646616\n",
      "  (33389, 10502)\t0.527701984271466\n",
      "  (33389, 7316)\t0.6235546106655167\n",
      "  (33389, 9360)\t0.3404591219598194\n",
      "  (33390, 14304)\t1.0\n",
      "  (33391, 1792)\t0.7384214765087379\n",
      "  (33391, 13508)\t0.6743394716540442\n",
      "  (33392, 6046)\t0.7219573683579796\n",
      "  (33392, 11635)\t0.6919375392863293\n",
      "  (33393, 10878)\t0.6285996308765085\n",
      "  (33393, 6775)\t0.6482466640313516\n",
      "  (33393, 4844)\t0.429696132905733\n",
      "  (33394, 7618)\t0.6037931386801457\n",
      "  (33394, 1935)\t0.5946131457877138\n",
      "  (33394, 5091)\t0.4850380989698739\n",
      "  (33394, 6046)\t0.215886764501458\n",
      "  (33395, 13366)\t0.5866231108644102\n",
      "  (33395, 2634)\t0.7209794138348856\n",
      "  (33395, 6046)\t0.36886584366957414\n"
     ]
    }
   ],
   "source": [
    "# PROSES TF IDF\n",
    "from sklearn.feature_extraction.text import CountVectorizer\n",
    "from sklearn.feature_extraction.text import TfidfVectorizer\n",
    "\n",
    "vectorizer = CountVectorizer()\n",
    "X = vectorizer.fit_transform(data_clean['review'].astype('U'))\n",
    "\n",
    "tf = TfidfVectorizer()\n",
    "text_tf = tf.fit_transform(data_clean['review'].astype('U'))\n",
    "print(text_tf)"
   ]
  },
  {
   "cell_type": "code",
   "execution_count": 104,
   "id": "7dcac622",
   "metadata": {},
   "outputs": [
    {
     "data": {
      "text/plain": [
       "array([[0., 0., 0., ..., 0., 0., 0.],\n",
       "       [0., 0., 0., ..., 0., 0., 0.],\n",
       "       [0., 0., 0., ..., 0., 0., 0.],\n",
       "       ...,\n",
       "       [0., 0., 0., ..., 0., 0., 0.],\n",
       "       [0., 0., 0., ..., 0., 0., 0.],\n",
       "       [0., 0., 0., ..., 0., 0., 0.]])"
      ]
     },
     "execution_count": 104,
     "metadata": {},
     "output_type": "execute_result"
    }
   ],
   "source": [
    "import pandas as pd\n",
    "from sklearn.feature_extraction.text import TfidfVectorizer\n",
    "\n",
    "# Ganti 'McDonald.csv' dengan lokasi file CSV Anda\n",
    "file_path = 'datamcd.csv'\n",
    "\n",
    "# Baca dataset dari file CSV\n",
    "data = pd.read_csv(file_path)\n",
    "\n",
    "# Pilih kolom 'review'\n",
    "reviews = data['review']\n",
    "\n",
    "# Gantikan nilai NaN dengan string kosong\n",
    "reviews = reviews.fillna('')\n",
    "\n",
    "# Inisialisasi objek TfidfVectorizer\n",
    "tfidf_vectorizer = TfidfVectorizer(\n",
    "    max_features=10000,  # Jumlah maksimum fitur TF-IDF\n",
    "    stop_words='english'  # Hentikan kata-kata bahasa Inggris\n",
    ")\n",
    "\n",
    "# Hitung TF-IDF dari ulasan restoran\n",
    "tfidf_matrix = tfidf_vectorizer.fit_transform(reviews)\n",
    "\n",
    "# Konversi hasil ke dalam bentuk matriks\n",
    "tfidf_matrix.toarray()\n"
   ]
  },
  {
   "cell_type": "code",
   "execution_count": 105,
   "id": "8f5d3b56",
   "metadata": {},
   "outputs": [
    {
     "name": "stdout",
     "output_type": "stream",
     "text": [
      "Fitur: liked, TF-IDF Score: 1.0\n",
      "Fitur: micky, TF-IDF Score: 1.0\n",
      "Fitur: gee, TF-IDF Score: 1.0\n",
      "Fitur: geat, TF-IDF Score: 1.0\n",
      "Fitur: mickyds, TF-IDF Score: 1.0\n",
      "Fitur: old, TF-IDF Score: 1.0\n",
      "Fitur: disapointed, TF-IDF Score: 1.0\n",
      "Fitur: suck, TF-IDF Score: 1.0\n",
      "Fitur: slow, TF-IDF Score: 1.0\n",
      "Fitur: cashier, TF-IDF Score: 1.0\n"
     ]
    }
   ],
   "source": [
    "import pandas as pd\n",
    "from sklearn.feature_extraction.text import TfidfVectorizer\n",
    "\n",
    "# Membaca dataset\n",
    "data = pd.read_csv(\"datamcd.csv\")\n",
    "\n",
    "# Menggantikan NaN dengan string kosong\n",
    "data[\"review\"].fillna(\"\", inplace=True)\n",
    "\n",
    "# Menginisialisasi objek TfidfVectorizer\n",
    "tfidf_vectorizer = TfidfVectorizer(ngram_range=(1, 3))  # Anda dapat mengganti ngram_range sesuai dengan kebutuhan\n",
    "\n",
    "# Menghitung TF-IDF dari data teks\n",
    "tfidf_matrix = tfidf_vectorizer.fit_transform(data[\"review\"])\n",
    "\n",
    "# Mendapatkan daftar fitur (kata atau n-gram)\n",
    "features = tfidf_vectorizer.get_feature_names_out()\n",
    "\n",
    "# Menghitung nilai TF-IDF terbesar untuk setiap fitur\n",
    "max_tfidf_scores = tfidf_matrix.max(axis=0).toarray()[0]\n",
    "\n",
    "# Mengurutkan indeks fitur berdasarkan nilai TF-IDF terbesar\n",
    "top_feature_indices = max_tfidf_scores.argsort()[::-1]\n",
    "\n",
    "# Menampilkan 10 fitur teratas\n",
    "for i in range(10):\n",
    "    feature_index = top_feature_indices[i]\n",
    "    feature_name = features[feature_index]\n",
    "    tfidf_score = max_tfidf_scores[feature_index]\n",
    "    print(f\"Fitur: {feature_name}, TF-IDF Score: {tfidf_score}\")\n"
   ]
  },
  {
   "cell_type": "code",
   "execution_count": 106,
   "id": "940b0f59",
   "metadata": {},
   "outputs": [
    {
     "name": "stdout",
     "output_type": "stream",
     "text": [
      "Akurasi: 70.00%\n"
     ]
    }
   ],
   "source": [
    "from sklearn.metrics import accuracy_score\n",
    "\n",
    "# Ground truth labels\n",
    "true_labels = [0, 1, 0, 1, 1, 0, 0, 1, 1, 0]\n",
    "\n",
    "# Prediksi hasil model\n",
    "predicted_labels = [0, 1, 0, 1, 1, 1, 0, 0, 1, 1]\n",
    "\n",
    "# Hitung akurasi\n",
    "accuracy = accuracy_score(true_labels, predicted_labels)\n",
    "\n",
    "print(\"Akurasi: {:.2f}%\".format(accuracy * 100))\n"
   ]
  },
  {
   "cell_type": "code",
   "execution_count": null,
   "id": "6e90c104",
   "metadata": {},
   "outputs": [],
   "source": [
    "# x_train, x_test, y_train, y_test = train_test_split(X, Y, test_size=0.2, random_state=42)"
   ]
  },
  {
   "cell_type": "markdown",
   "id": "9878fffe",
   "metadata": {},
   "source": [
    "## Under SAMPLING"
   ]
  },
  {
   "cell_type": "code",
   "execution_count": 36,
   "id": "ae46132f",
   "metadata": {},
   "outputs": [
    {
     "name": "stdout",
     "output_type": "stream",
     "text": [
      "Jumlah sampel sebelum resampling: 33396\n",
      "Distribusi kelas sebelum resampling:\n",
      "5 stars    10274\n",
      "1 star      9431\n",
      "4 stars     5787\n",
      "3 stars     4818\n",
      "2 stars     3086\n",
      "Name: rating, dtype: int64\n",
      "Jumlah sampel setelah resampling: 24904\n",
      "Distribusi kelas setelah resampling:\n",
      "1 star     6000\n",
      "5 stars    6000\n",
      "4 stars    5000\n",
      "3 stars    4818\n",
      "2 stars    3086\n",
      "Name: rating, dtype: int64\n"
     ]
    }
   ],
   "source": [
    "from imblearn.under_sampling import RandomUnderSampler\n",
    "\n",
    "# Membaca dataset\n",
    "data = pd.read_csv(\"mcd_cleaning.csv\")\n",
    "\n",
    "# Menampilkan jumlah sampel dan distribusi kelas sebelum resampling\n",
    "print(\"Jumlah sampel sebelum resampling:\", len(data))\n",
    "print(\"Distribusi kelas sebelum resampling:\")\n",
    "print(data['rating'].value_counts())\n",
    "\n",
    "# Inisialisasi objek RandomUnderSampler\n",
    "rus = RandomUnderSampler(sampling_strategy={'5 stars': 6000, '1 star': 6000, '4 stars': 5000})\n",
    "\n",
    "# Melakukan resampling pada data\n",
    "X_resampled, y_resampled = rus.fit_resample(data.drop('rating', axis=1), data['rating'])\n",
    "\n",
    "# Menggabungkan kembali fitur dan target\n",
    "resampled_data = pd.concat([pd.DataFrame(X_resampled, columns=data.columns.drop('rating')), pd.Series(y_resampled, name='rating')], axis=1)\n",
    "\n",
    "# Menampilkan jumlah sampel dan distribusi kelas setelah resampling\n",
    "print(\"Jumlah sampel setelah resampling:\", len(resampled_data))\n",
    "print(\"Distribusi kelas setelah resampling:\")\n",
    "print(resampled_data['rating'].value_counts())\n"
   ]
  },
  {
   "cell_type": "code",
   "execution_count": 37,
   "id": "6f6e2b1f",
   "metadata": {},
   "outputs": [
    {
     "data": {
      "image/png": "[encoded data removed]",
      "text/plain": [
       "<Figure size 1000x600 with 2 Axes>"
      ]
     },
     "metadata": {},
     "output_type": "display_data"
    }
   ],
   "source": [
    "import matplotlib.pyplot as plt\n",
    "\n",
    "# Distribusi kelas sebelum resampling\n",
    "class_distribution_before = data['rating'].value_counts()\n",
    "\n",
    "# Distribusi kelas setelah resampling\n",
    "class_distribution_after = resampled_data['rating'].value_counts()\n",
    "\n",
    "# Membuat bar chart\n",
    "plt.figure(figsize=(10, 6))\n",
    "\n",
    "plt.subplot(2, 1, 1)\n",
    "class_distribution_before.plot(kind='bar', color='skyblue')\n",
    "plt.title('Class Distribution Before Resampling')\n",
    "plt.xlabel('Rating')\n",
    "plt.ylabel('Count')\n",
    "\n",
    "plt.subplot(2, 1, 2)\n",
    "class_distribution_after.plot(kind='bar', color='lightcoral')\n",
    "plt.title('Class Distribution After Resampling')\n",
    "plt.xlabel('Rating')\n",
    "plt.ylabel('Count')\n",
    "\n",
    "plt.tight_layout()\n",
    "plt.show()\n"
   ]
  },
  {
   "cell_type": "code",
   "execution_count": 38,
   "id": "b37f33ef",
   "metadata": {},
   "outputs": [],
   "source": [
    "# # Simpan hasil resampling ke dalam file CSV\n",
    "# resampled_data.to_csv('hasilResampling.csv', index=False)\n"
   ]
  },
  {
   "cell_type": "code",
   "execution_count": 39,
   "id": "a967a5fc",
   "metadata": {},
   "outputs": [],
   "source": [
    "df = pd.read_csv(\"hasilResampling.csv\", encoding=\"latin-1\")"
   ]
  },
  {
   "cell_type": "code",
   "execution_count": 40,
   "id": "a31f05ba",
   "metadata": {},
   "outputs": [
    {
     "data": {
      "text/html": [
       "<div>\n",
       "<style scoped>\n",
       "    .dataframe tbody tr th:only-of-type {\n",
       "        vertical-align: middle;\n",
       "    }\n",
       "\n",
       "    .dataframe tbody tr th {\n",
       "        vertical-align: top;\n",
       "    }\n",
       "\n",
       "    .dataframe thead th {\n",
       "        text-align: right;\n",
       "    }\n",
       "</style>\n",
       "<table border=\"1\" class=\"dataframe\">\n",
       "  <thead>\n",
       "    <tr style=\"text-align: right;\">\n",
       "      <th></th>\n",
       "      <th>reviewer_id</th>\n",
       "      <th>store_name</th>\n",
       "      <th>category</th>\n",
       "      <th>store_address</th>\n",
       "      <th>latitude</th>\n",
       "      <th>longitude</th>\n",
       "      <th>rating_count</th>\n",
       "      <th>review_time</th>\n",
       "      <th>review</th>\n",
       "      <th>kepuasan</th>\n",
       "      <th>rating</th>\n",
       "    </tr>\n",
       "  </thead>\n",
       "  <tbody>\n",
       "    <tr>\n",
       "      <th>0</th>\n",
       "      <td>33036</td>\n",
       "      <td>McDonald's</td>\n",
       "      <td>Fast food restaurant</td>\n",
       "      <td>3501 Biscayne Blvd, Miami, FL 33137, United St...</td>\n",
       "      <td>25.810000</td>\n",
       "      <td>-80.189098</td>\n",
       "      <td>2,810</td>\n",
       "      <td>3 years ago</td>\n",
       "      <td>love pancake</td>\n",
       "      <td>Very Positive</td>\n",
       "      <td>5 stars</td>\n",
       "    </tr>\n",
       "    <tr>\n",
       "      <th>1</th>\n",
       "      <td>4905</td>\n",
       "      <td>McDonald's</td>\n",
       "      <td>Fast food restaurant</td>\n",
       "      <td>724 Broadway, New York, NY 10003, United States</td>\n",
       "      <td>40.729126</td>\n",
       "      <td>-73.993264</td>\n",
       "      <td>1,670</td>\n",
       "      <td>10 months ago</td>\n",
       "      <td>excellent</td>\n",
       "      <td>Very Positive</td>\n",
       "      <td>5 stars</td>\n",
       "    </tr>\n",
       "    <tr>\n",
       "      <th>2</th>\n",
       "      <td>2485</td>\n",
       "      <td>McDonald's</td>\n",
       "      <td>Fast food restaurant</td>\n",
       "      <td>72-69 Kissena Blvd, Queens, NY 11367, United S...</td>\n",
       "      <td>40.727401</td>\n",
       "      <td>-73.812460</td>\n",
       "      <td>2,193</td>\n",
       "      <td>3 years ago</td>\n",
       "      <td>nice clean friendly service</td>\n",
       "      <td>Very Positive</td>\n",
       "      <td>5 stars</td>\n",
       "    </tr>\n",
       "    <tr>\n",
       "      <th>3</th>\n",
       "      <td>1470</td>\n",
       "      <td>McDonald's</td>\n",
       "      <td>Fast food restaurant</td>\n",
       "      <td>1698 US-209, Brodheadsville, PA 18322, United ...</td>\n",
       "      <td>40.922081</td>\n",
       "      <td>-75.399919</td>\n",
       "      <td>1,028</td>\n",
       "      <td>4 years ago</td>\n",
       "      <td>excellent</td>\n",
       "      <td>Very Positive</td>\n",
       "      <td>5 stars</td>\n",
       "    </tr>\n",
       "    <tr>\n",
       "      <th>4</th>\n",
       "      <td>20504</td>\n",
       "      <td>McDonald's</td>\n",
       "      <td>Fast food restaurant</td>\n",
       "      <td>2400 Alliance Gateway Fwy, Fort Worth, TX 7617...</td>\n",
       "      <td>32.958041</td>\n",
       "      <td>-97.307652</td>\n",
       "      <td>957</td>\n",
       "      <td>2 years ago</td>\n",
       "      <td>they</td>\n",
       "      <td>Very Positive</td>\n",
       "      <td>5 stars</td>\n",
       "    </tr>\n",
       "  </tbody>\n",
       "</table>\n",
       "</div>"
      ],
      "text/plain": [
       "   reviewer_id  store_name              category  \\\n",
       "0        33036  McDonald's  Fast food restaurant   \n",
       "1         4905  McDonald's  Fast food restaurant   \n",
       "2         2485  McDonald's  Fast food restaurant   \n",
       "3         1470  McDonald's  Fast food restaurant   \n",
       "4        20504  McDonald's  Fast food restaurant   \n",
       "\n",
       "                                       store_address  latitude   longitude  \\\n",
       "0  3501 Biscayne Blvd, Miami, FL 33137, United St...  25.810000 -80.189098   \n",
       "1    724 Broadway, New York, NY 10003, United States  40.729126 -73.993264   \n",
       "2  72-69 Kissena Blvd, Queens, NY 11367, United S...  40.727401 -73.812460   \n",
       "3  1698 US-209, Brodheadsville, PA 18322, United ...  40.922081 -75.399919   \n",
       "4  2400 Alliance Gateway Fwy, Fort Worth, TX 7617...  32.958041 -97.307652   \n",
       "\n",
       "  rating_count    review_time                       review       kepuasan  \\\n",
       "0        2,810    3 years ago                 love pancake  Very Positive   \n",
       "1        1,670  10 months ago                    excellent  Very Positive   \n",
       "2        2,193    3 years ago  nice clean friendly service  Very Positive   \n",
       "3        1,028    4 years ago                    excellent  Very Positive   \n",
       "4          957    2 years ago                         they  Very Positive   \n",
       "\n",
       "    rating  \n",
       "0  5 stars  \n",
       "1  5 stars  \n",
       "2  5 stars  \n",
       "3  5 stars  \n",
       "4  5 stars  "
      ]
     },
     "execution_count": 40,
     "metadata": {},
     "output_type": "execute_result"
    }
   ],
   "source": [
    "df.head(5)"
   ]
  },
  {
   "cell_type": "markdown",
   "id": "fefa99c9",
   "metadata": {},
   "source": [
    "## SKIP N-GRAM + SVM"
   ]
  },
  {
   "cell_type": "code",
   "execution_count": 41,
   "id": "a9c7221c",
   "metadata": {},
   "outputs": [
    {
     "name": "stdout",
     "output_type": "stream",
     "text": [
      "Model saved to svm_skipgram.pkl\n",
      "Accuracy: 0.89\n",
      "Classification Report:\n",
      "              precision    recall  f1-score   support\n",
      "\n",
      "      1 star       0.87      0.91      0.89      1222\n",
      "     2 stars       0.99      0.91      0.95       816\n",
      "     3 stars       0.95      0.89      0.92       794\n",
      "     4 stars       0.90      0.85      0.87       813\n",
      "     5 stars       0.81      0.88      0.84      1215\n",
      "\n",
      "    accuracy                           0.89      4860\n",
      "   macro avg       0.90      0.89      0.89      4860\n",
      "weighted avg       0.89      0.89      0.89      4860\n",
      "\n"
     ]
    }
   ],
   "source": [
    "import pandas as pd\n",
    "from sklearn.feature_extraction.text import CountVectorizer\n",
    "from sklearn.model_selection import train_test_split\n",
    "from sklearn.svm import SVC\n",
    "from sklearn.metrics import accuracy_score, classification_report\n",
    "import joblib\n",
    "\n",
    "# Load your dataset\n",
    "df = pd.read_csv(\"hasilResampling.csv\")\n",
    "\n",
    "# Handle missing values in the \"review\" column\n",
    "df['review'].fillna('', inplace=True)\n",
    "\n",
    "# Select the columns 'review' and 'kepuasan'\n",
    "X = df[['review']]\n",
    "y = df['rating']\n",
    "\n",
    "# Convert the \"review\" column to features using Skip-gram (n-gram)\n",
    "skipgram_vectorizer = CountVectorizer(ngram_range=(1, 2), max_features=15000)\n",
    "X_skipgram = skipgram_vectorizer.fit_transform(X['review'])  # Use X['review'] instead of X\n",
    "\n",
    "# Train-test split\n",
    "X_train, X_test, y_train, y_test = train_test_split(X_skipgram, y, test_size=0.2, random_state=42)\n",
    "\n",
    "# Train an SVM model\n",
    "model = SVC()\n",
    "model.fit(X_train, y_train)\n",
    "\n",
    "# Save the trained model to a file\n",
    "model_filename = 'svm_skipgram.pkl'\n",
    "joblib.dump(model, model_filename)\n",
    "print(f\"Model saved to {model_filename}\")\n",
    "\n",
    "# Make predictions on the test set\n",
    "y_pred = model.predict(X_test)\n",
    "\n",
    "# Evaluate the model\n",
    "accuracy = accuracy_score(y_test, y_pred)\n",
    "print(f\"Accuracy: {accuracy:.2f}\")\n",
    "\n",
    "# Display additional evaluation metrics\n",
    "print(\"Classification Report:\")\n",
    "print(classification_report(y_test, y_pred))\n"
   ]
  },
  {
   "cell_type": "markdown",
   "id": "71b5aca9",
   "metadata": {},
   "source": [
    "## SKIP N-GRAM + NAIVE BAYES"
   ]
  },
  {
   "cell_type": "code",
   "execution_count": 42,
   "id": "50eefccf",
   "metadata": {},
   "outputs": [
    {
     "name": "stdout",
     "output_type": "stream",
     "text": [
      "Model saved to naive_bayes_skipgram.pkl\n",
      "Accuracy: 0.83\n",
      "Classification Report:\n",
      "               precision    recall  f1-score   support\n",
      "\n",
      "     Negative       0.93      0.88      0.91       816\n",
      "      Neutral       0.92      0.82      0.87       794\n",
      "     Positive       0.91      0.57      0.70       813\n",
      "Very Negative       0.85      0.91      0.88      1222\n",
      "Very Positive       0.70      0.90      0.79      1215\n",
      "\n",
      "     accuracy                           0.83      4860\n",
      "    macro avg       0.86      0.82      0.83      4860\n",
      " weighted avg       0.85      0.83      0.83      4860\n",
      "\n"
     ]
    }
   ],
   "source": [
    "import pandas as pd\n",
    "from sklearn.feature_extraction.text import CountVectorizer\n",
    "from sklearn.model_selection import train_test_split\n",
    "from sklearn.naive_bayes import MultinomialNB\n",
    "from sklearn.metrics import accuracy_score, classification_report\n",
    "import joblib\n",
    "\n",
    "# Load your dataset\n",
    "df = pd.read_csv(\"hasilResampling.csv\")\n",
    "\n",
    "# Handle missing values in the \"review\" column\n",
    "df['review'].fillna('', inplace=True)\n",
    "\n",
    "# Select the columns 'review' and 'kepuasan'\n",
    "X = df[['review']]\n",
    "y = df['kepuasan']\n",
    "\n",
    "# Convert the \"review\" column to features using Skip-gram (n-gram)\n",
    "skipgram_vectorizer = CountVectorizer(ngram_range=(1, 2), max_features=15000)\n",
    "X_skipgram = skipgram_vectorizer.fit_transform(X['review'])  # Use X['review'] instead of X\n",
    "\n",
    "# Train-test split\n",
    "X_train, X_test, y_train, y_test = train_test_split(X_skipgram, y, test_size=0.2, random_state=42)\n",
    "\n",
    "# Train a Naive Bayes model\n",
    "model = MultinomialNB()\n",
    "model.fit(X_train, y_train)\n",
    "\n",
    "# Save the trained model to a file\n",
    "model_filename = 'naive_bayes_skipgram.pkl'\n",
    "joblib.dump(model, model_filename)\n",
    "print(f\"Model saved to {model_filename}\")\n",
    "\n",
    "# Make predictions on the test set\n",
    "y_pred = model.predict(X_test)\n",
    "\n",
    "# Evaluate the model\n",
    "accuracy = accuracy_score(y_test, y_pred)\n",
    "print(f\"Accuracy: {accuracy:.2f}\")\n",
    "\n",
    "# Display additional evaluation metrics\n",
    "print(\"Classification Report:\")\n",
    "print(classification_report(y_test, y_pred))\n"
   ]
  },
  {
   "cell_type": "markdown",
   "id": "2cbcd264",
   "metadata": {},
   "source": [
    "## TF IDF + SVM"
   ]
  },
  {
   "cell_type": "code",
   "execution_count": 109,
   "id": "8575f801",
   "metadata": {},
   "outputs": [
    {
     "name": "stdout",
     "output_type": "stream",
     "text": [
      "Model saved to svm_tfidf1.pkl\n",
      "Accuracy: 0.93\n",
      "Classification Report:\n",
      "               precision    recall  f1-score   support\n",
      "\n",
      "     Negative       0.98      0.94      0.96       816\n",
      "      Neutral       0.95      0.94      0.95       794\n",
      "     Positive       0.92      0.92      0.92       813\n",
      "Very Negative       0.89      0.95      0.92      1222\n",
      "Very Positive       0.91      0.88      0.90      1215\n",
      "\n",
      "     accuracy                           0.93      4860\n",
      "    macro avg       0.93      0.93      0.93      4860\n",
      " weighted avg       0.93      0.93      0.93      4860\n",
      "\n"
     ]
    }
   ],
   "source": [
    "import pandas as pd\n",
    "from sklearn.feature_extraction.text import TfidfVectorizer\n",
    "from sklearn.model_selection import train_test_split\n",
    "from sklearn.svm import SVC\n",
    "from sklearn.metrics import accuracy_score, classification_report\n",
    "import joblib\n",
    "\n",
    "# Load your dataset\n",
    "df = pd.read_csv(\"hasilResampling.csv\")\n",
    "\n",
    "# Handle missing values in the \"review\" column\n",
    "df['review'].fillna('', inplace=True)\n",
    "\n",
    "# Select the columns 'review' and 'kepuasan'\n",
    "X = df[['review']]\n",
    "y = df['kepuasan']\n",
    "\n",
    "# Convert the \"review\" column to TF-IDF features\n",
    "tfidf_vectorizer = TfidfVectorizer(max_features=40000)\n",
    "X_tfidf = tfidf_vectorizer.fit_transform(X['review'])  # Use X['review'] instead of X\n",
    "\n",
    "# Train-test split\n",
    "X_train, X_test, y_train, y_test = train_test_split(X_tfidf, y, test_size=0.2, random_state=42)\n",
    "\n",
    "# Train an SVM model\n",
    "model = SVC()\n",
    "model.fit(X_train, y_train)\n",
    "\n",
    "# Save the trained model to a file\n",
    "model_filename = 'svm_tfidf1.pkl'\n",
    "joblib.dump(model, model_filename)\n",
    "print(f\"Model saved to {model_filename}\")\n",
    "\n",
    "# Make predictions on the test set\n",
    "y_pred = model.predict(X_test)\n",
    "\n",
    "# Evaluate the model\n",
    "accuracy = accuracy_score(y_test, y_pred)\n",
    "print(f\"Accuracy: {accuracy:.2f}\")\n",
    "\n",
    "# Display additional evaluation metrics\n",
    "print(\"Classification Report:\")\n",
    "print(classification_report(y_test, y_pred))\n"
   ]
  },
  {
   "cell_type": "code",
   "execution_count": 81,
   "id": "4493b3fc",
   "metadata": {},
   "outputs": [],
   "source": [
    "vocabulary = tfidf_vectorizer.get_feature_names_out()\n"
   ]
  },
  {
   "cell_type": "code",
   "execution_count": 100,
   "id": "96e8fd64",
   "metadata": {},
   "outputs": [],
   "source": [
    "import pickle\n",
    "\n",
    "with open('vocabulary.pkl', 'wb') as file:\n",
    "    pickle.dump(vocabulary, file)"
   ]
  },
  {
   "cell_type": "markdown",
   "id": "bd1e107e",
   "metadata": {},
   "source": [
    "## TF IDF + NAIVE BAYES"
   ]
  },
  {
   "cell_type": "code",
   "execution_count": 80,
   "id": "9400ef95",
   "metadata": {},
   "outputs": [
    {
     "name": "stdout",
     "output_type": "stream",
     "text": [
      "Model saved to naive_bayes_tfidf.pkl\n",
      "Accuracy: 0.78\n",
      "Classification Report:\n",
      "               precision    recall  f1-score   support\n",
      "\n",
      "     Negative       0.85      0.73      0.79       816\n",
      "      Neutral       0.88      0.68      0.77       794\n",
      "     Positive       0.78      0.70      0.74       813\n",
      "Very Negative       0.71      0.91      0.80      1222\n",
      "Very Positive       0.78      0.81      0.79      1215\n",
      "\n",
      "     accuracy                           0.78      4860\n",
      "    macro avg       0.80      0.77      0.78      4860\n",
      " weighted avg       0.79      0.78      0.78      4860\n",
      "\n"
     ]
    }
   ],
   "source": [
    "import pandas as pd\n",
    "from sklearn.feature_extraction.text import TfidfVectorizer\n",
    "from sklearn.model_selection import train_test_split\n",
    "from sklearn.naive_bayes import MultinomialNB\n",
    "from sklearn.metrics import accuracy_score, classification_report\n",
    "import joblib\n",
    "\n",
    "# Load your dataset\n",
    "df = pd.read_csv(\"hasilResampling.csv\")\n",
    "\n",
    "# Handle missing values in the \"review\" column\n",
    "df['review'].fillna('', inplace=True)\n",
    "\n",
    "# Select the columns 'review' and 'kepuasan'\n",
    "X = df[['review']]\n",
    "y = df['kepuasan']\n",
    "\n",
    "# Convert the \"review\" column to TF-IDF features\n",
    "tfidf_vectorizer = TfidfVectorizer(max_features=10000)\n",
    "X_tfidf = tfidf_vectorizer.fit_transform(X['review'])  # Use X['review'] instead of X\n",
    "\n",
    "# Train-test split\n",
    "X_train, X_test, y_train, y_test = train_test_split(X_tfidf, y, test_size=0.2, random_state=42)\n",
    "\n",
    "# Train a Naive Bayes model\n",
    "model = MultinomialNB()\n",
    "model.fit(X_train, y_train)\n",
    "\n",
    "# Save the trained model to a file\n",
    "model_filename = 'naive_bayes_tfidf.pkl'\n",
    "joblib.dump(model, model_filename)\n",
    "print(f\"Model saved to {model_filename}\")\n",
    "\n",
    "# Make predictions on the test set\n",
    "y_pred = model.predict(X_test)\n",
    "\n",
    "# Evaluate the model\n",
    "accuracy = accuracy_score(y_test, y_pred)\n",
    "print(f\"Accuracy: {accuracy:.2f}\")\n",
    "\n",
    "# Display additional evaluation metrics\n",
    "print(\"Classification Report:\")\n",
    "print(classification_report(y_test, y_pred))\n"
   ]
  },
  {
   "cell_type": "markdown",
   "id": "688e3060",
   "metadata": {},
   "source": [
    "## Predict"
   ]
  },
  {
   "cell_type": "markdown",
   "id": "f15245df",
   "metadata": {
    "papermill": {
     "duration": 0.013263,
     "end_time": "2023-08-20T07:13:41.430258",
     "exception": false,
     "start_time": "2023-08-20T07:13:41.416995",
     "status": "completed"
    },
    "tags": []
   },
   "source": [
    "# **Splitted the Dataset**"
   ]
  },
  {
   "cell_type": "code",
   "execution_count": 118,
   "id": "160bf66d",
   "metadata": {
    "execution": {
     "iopub.execute_input": "2023-08-20T07:13:41.459606Z",
     "iopub.status.busy": "2023-08-20T07:13:41.459169Z",
     "iopub.status.idle": "2023-08-20T07:13:41.473617Z",
     "shell.execute_reply": "2023-08-20T07:13:41.471964Z"
    },
    "papermill": {
     "duration": 0.032597,
     "end_time": "2023-08-20T07:13:41.476936",
     "exception": false,
     "start_time": "2023-08-20T07:13:41.444339",
     "status": "completed"
    },
    "tags": []
   },
   "outputs": [
    {
     "data": {
      "text/plain": [
       "0                                             love pancake\n",
       "1                                                excellent\n",
       "2                              nice clean friendly service\n",
       "3                                                excellent\n",
       "4                                                     they\n",
       "                               ...                        \n",
       "24295    worst drive thru took 26 minute get order wors...\n",
       "24296    customer service terrible waiting five minute ...\n",
       "24297    biggest waste time money way packed unorganize...\n",
       "24298                     either phone isnt working employ\n",
       "24299                                               sucked\n",
       "Name: review, Length: 24300, dtype: object"
      ]
     },
     "execution_count": 118,
     "metadata": {},
     "output_type": "execute_result"
    }
   ],
   "source": [
    "X = df['review']\n",
    "y = df['kepuasan']\n",
    "X_train, X_test, y_train, y_test = train_test_split(X, y, test_size=0.2, random_state=43)\n",
    "X"
   ]
  },
  {
   "cell_type": "markdown",
   "id": "631b6ec3",
   "metadata": {
    "papermill": {
     "duration": 0.012643,
     "end_time": "2023-08-20T07:13:41.502707",
     "exception": false,
     "start_time": "2023-08-20T07:13:41.490064",
     "status": "completed"
    },
    "tags": []
   },
   "source": [
    "**Vectorization**"
   ]
  },
  {
   "cell_type": "code",
   "execution_count": 119,
   "id": "5d26c7bd",
   "metadata": {
    "execution": {
     "iopub.execute_input": "2023-08-20T07:13:41.530468Z",
     "iopub.status.busy": "2023-08-20T07:13:41.530035Z",
     "iopub.status.idle": "2023-08-20T07:13:42.746326Z",
     "shell.execute_reply": "2023-08-20T07:13:42.745218Z"
    },
    "papermill": {
     "duration": 1.233703,
     "end_time": "2023-08-20T07:13:42.749115",
     "exception": false,
     "start_time": "2023-08-20T07:13:41.515412",
     "status": "completed"
    },
    "tags": []
   },
   "outputs": [],
   "source": [
    "vectorizer = TfidfVectorizer()\n",
    "X_train_tfidf = vectorizer.fit_transform(X_train)\n",
    "X_test_tfidf = vectorizer.transform(X_test)"
   ]
  },
  {
   "cell_type": "markdown",
   "id": "5f4b6992",
   "metadata": {
    "papermill": {
     "duration": 0.012436,
     "end_time": "2023-08-20T07:13:42.774333",
     "exception": false,
     "start_time": "2023-08-20T07:13:42.761897",
     "status": "completed"
    },
    "tags": []
   },
   "source": [
    "# **Training the Model Using Support Vector Classifier (SVC)**\n",
    "\n",
    "*I employed the Support Vector Classifier (SVC) algorithm, a robust machine learning technique widely employed for classification. Through training on labeled data, the model gained the ability to forecast review sentiment using their distinctive attributes.*"
   ]
  },
  {
   "cell_type": "code",
   "execution_count": 120,
   "id": "624bc080",
   "metadata": {
    "execution": {
     "iopub.execute_input": "2023-08-20T07:13:42.801918Z",
     "iopub.status.busy": "2023-08-20T07:13:42.801238Z",
     "iopub.status.idle": "2023-08-20T07:17:21.753502Z",
     "shell.execute_reply": "2023-08-20T07:17:21.752139Z"
    },
    "papermill": {
     "duration": 218.981516,
     "end_time": "2023-08-20T07:17:21.768424",
     "exception": false,
     "start_time": "2023-08-20T07:13:42.786908",
     "status": "completed"
    },
    "tags": []
   },
   "outputs": [
    {
     "data": {
      "text/plain": [
       "SVC()"
      ]
     },
     "execution_count": 120,
     "metadata": {},
     "output_type": "execute_result"
    }
   ],
   "source": [
    "model = SVC()\n",
    "model.fit(X_train_tfidf, y_train)"
   ]
  },
  {
   "cell_type": "code",
   "execution_count": 145,
   "id": "b61b1ff9",
   "metadata": {
    "execution": {
     "iopub.execute_input": "2023-08-20T07:17:21.797242Z",
     "iopub.status.busy": "2023-08-20T07:17:21.795990Z",
     "iopub.status.idle": "2023-08-20T07:17:44.298931Z",
     "shell.execute_reply": "2023-08-20T07:17:44.297381Z"
    },
    "papermill": {
     "duration": 22.520745,
     "end_time": "2023-08-20T07:17:44.302094",
     "exception": false,
     "start_time": "2023-08-20T07:17:21.781349",
     "status": "completed"
    },
    "tags": []
   },
   "outputs": [],
   "source": [
    "y_pred = model.predict(X_test_tfidf)"
   ]
  },
  {
   "cell_type": "code",
   "execution_count": 122,
   "id": "541b3cac",
   "metadata": {},
   "outputs": [],
   "source": [
    "from sklearn.feature_extraction.text import TfidfVectorizer\n",
    "from sklearn.model_selection import train_test_split\n",
    "\n",
    "# Your data loading and preprocessing code here\n",
    "\n",
    "# Example usage of TfidfVectorizer\n",
    "vectorizer = TfidfVectorizer()\n",
    "X_train_tfidf = vectorizer.fit_transform(X_train)\n",
    "X_test_tfidf = vectorizer.transform(X_test)\n",
    "\n",
    "# Continue with your modeling and evaluation code\n"
   ]
  },
  {
   "cell_type": "code",
   "execution_count": 123,
   "id": "8a67e956",
   "metadata": {
    "execution": {
     "iopub.execute_input": "2023-08-20T07:17:44.330584Z",
     "iopub.status.busy": "2023-08-20T07:17:44.329722Z",
     "iopub.status.idle": "2023-08-20T07:17:44.715586Z",
     "shell.execute_reply": "2023-08-20T07:17:44.714199Z"
    },
    "papermill": {
     "duration": 0.403288,
     "end_time": "2023-08-20T07:17:44.718572",
     "exception": false,
     "start_time": "2023-08-20T07:17:44.315284",
     "status": "completed"
    },
    "tags": []
   },
   "outputs": [
    {
     "name": "stdout",
     "output_type": "stream",
     "text": [
      "Accuracy: 0.9281893004115226\n",
      "Classification Report:\n",
      "               precision    recall  f1-score   support\n",
      "\n",
      "     Negative       0.99      0.95      0.97       815\n",
      "      Neutral       0.95      0.94      0.95       830\n",
      "     Positive       0.94      0.92      0.93       818\n",
      "Very Negative       0.88      0.96      0.92      1164\n",
      "Very Positive       0.91      0.88      0.90      1233\n",
      "\n",
      "     accuracy                           0.93      4860\n",
      "    macro avg       0.94      0.93      0.93      4860\n",
      " weighted avg       0.93      0.93      0.93      4860\n",
      "\n"
     ]
    }
   ],
   "source": [
    "accuracy = accuracy_score(y_test, y_pred)\n",
    "print(\"Accuracy:\", accuracy)\n",
    "print(\"Classification Report:\")\n",
    "print(classification_report(y_test, y_pred))"
   ]
  },
  {
   "cell_type": "code",
   "execution_count": 146,
   "id": "6614b6b5",
   "metadata": {},
   "outputs": [
    {
     "data": {
      "image/png": "[encoded data removed]",
      "text/plain": [
       "<Figure size 800x600 with 2 Axes>"
      ]
     },
     "metadata": {},
     "output_type": "display_data"
    }
   ],
   "source": [
    "from sklearn.metrics import confusion_matrix\n",
    "import seaborn as sns\n",
    "cm_svm = confusion_matrix(y_test, y_pred)\n",
    "\n",
    "\n",
    "# Plot confusion matrix menggunakan seaborn\n",
    "plt.figure(figsize=(8, 6))\n",
    "sns.heatmap(cm_svm, annot=True, fmt=\"d\", cmap=\"Blues\", xticklabels=sorted(set(y_test)), yticklabels=sorted(set(y_test)))\n",
    "plt.xlabel('Predicted')\n",
    "plt.ylabel('Actual')\n",
    "plt.title('SVM Confusion Matrix')\n",
    "plt.show()"
   ]
  },
  {
   "cell_type": "code",
   "execution_count": 131,
   "id": "4fd19ea6",
   "metadata": {},
   "outputs": [
    {
     "data": {
      "text/plain": [
       "<AxesSubplot: >"
      ]
     },
     "execution_count": 131,
     "metadata": {},
     "output_type": "execute_result"
    },
    {
     "data": {
      "image/png": "[encoded data removed]",
      "text/plain": [
       "<Figure size 1000x800 with 2 Axes>"
      ]
     },
     "metadata": {},
     "output_type": "display_data"
    }
   ],
   "source": [
    "from sklearn.metrics import confusion_matrix\n",
    "cm = confusion_matrix(y_test, y_pred)\n",
    "plt.figure(figsize=(10, 8))\n",
    "sns.heatmap(cm, annot=True, fmt=\"d\", cmap=\"Blues\", xticklabels=model.classes_, yticklabels=model.classes_)"
   ]
  },
  {
   "cell_type": "code",
   "execution_count": 134,
   "id": "2cbda3cd",
   "metadata": {},
   "outputs": [
    {
     "name": "stdout",
     "output_type": "stream",
     "text": [
      "\n",
      "Kata-kata yang sering muncul untuk kategori Very Positive:\n",
      "\n",
      "    Kata  Frekuensi\n",
      "1  stars       6000\n",
      "0   star          0\n"
     ]
    },
    {
     "data": {
      "image/png": "[encoded data removed]",
      "text/plain": [
       "<Figure size 1000x600 with 1 Axes>"
      ]
     },
     "metadata": {},
     "output_type": "display_data"
    },
    {
     "name": "stdout",
     "output_type": "stream",
     "text": [
      "\n",
      "Kata-kata yang sering muncul untuk kategori Positive:\n",
      "\n",
      "    Kata  Frekuensi\n",
      "1  stars       4100\n",
      "0   star          0\n"
     ]
    },
    {
     "data": {
      "image/png": "[encoded data removed]",
      "text/plain": [
       "<Figure size 1000x600 with 1 Axes>"
      ]
     },
     "metadata": {},
     "output_type": "display_data"
    },
    {
     "name": "stdout",
     "output_type": "stream",
     "text": [
      "\n",
      "Kata-kata yang sering muncul untuk kategori Neutral:\n",
      "\n",
      "    Kata  Frekuensi\n",
      "1  stars       4100\n",
      "0   star          0\n"
     ]
    },
    {
     "data": {
      "image/png": "[encoded data removed]",
      "text/plain": [
       "<Figure size 1000x600 with 1 Axes>"
      ]
     },
     "metadata": {},
     "output_type": "display_data"
    },
    {
     "name": "stdout",
     "output_type": "stream",
     "text": [
      "\n",
      "Kata-kata yang sering muncul untuk kategori Negative:\n",
      "\n",
      "    Kata  Frekuensi\n",
      "1  stars       4100\n",
      "0   star          0\n"
     ]
    },
    {
     "data": {
      "image/png": "[encoded data removed]",
      "text/plain": [
       "<Figure size 1000x600 with 1 Axes>"
      ]
     },
     "metadata": {},
     "output_type": "display_data"
    },
    {
     "name": "stdout",
     "output_type": "stream",
     "text": [
      "\n",
      "Kata-kata yang sering muncul untuk kategori Very Negative:\n",
      "\n",
      "    Kata  Frekuensi\n",
      "0   star       6000\n",
      "1  stars          0\n"
     ]
    },
    {
     "data": {
      "image/png": "[encoded data removed]",
      "text/plain": [
       "<Figure size 1000x600 with 1 Axes>"
      ]
     },
     "metadata": {},
     "output_type": "display_data"
    }
   ],
   "source": [
    "import pandas as pd\n",
    "from sklearn.feature_extraction.text import CountVectorizer\n",
    "import matplotlib.pyplot as plt\n",
    "\n",
    "# Baca file CSV ke dalam DataFrame\n",
    "df = pd.read_csv('hasilResampling.csv', encoding='latin-1')\n",
    "\n",
    "# Pisahkan ulasan berdasarkan kategori bintang\n",
    "reviews_by_rating = {}\n",
    "for rating in df['kepuasan'].unique():\n",
    "    subset_df = df[df['kepuasan'] == rating]\n",
    "    reviews_by_rating[rating] = subset_df['rating'].str.cat(sep=' ')\n",
    "\n",
    "# Lakukan pemrosesan teks\n",
    "vectorizer = CountVectorizer()\n",
    "word_counts = vectorizer.fit_transform(reviews_by_rating.values())\n",
    "\n",
    "# Tampilkan kata-kata yang sering muncul untuk setiap kategori\n",
    "for i, rating in enumerate(reviews_by_rating):\n",
    "    word_count_df = pd.DataFrame({'Kata': vectorizer.get_feature_names(), 'Frekuensi': word_counts[i].toarray().flatten()})\n",
    "    most_common_words = word_count_df.sort_values(by='Frekuensi', ascending=False).head(10)\n",
    "    \n",
    "    print(f\"\\nKata-kata yang sering muncul untuk kategori {rating}:\\n\")\n",
    "    print(most_common_words)\n",
    "\n",
    "    # Visualisasi kata-kata yang sering muncul\n",
    "    plt.figure(figsize=(10, 6))\n",
    "    plt.barh(most_common_words['Kata'], most_common_words['Frekuensi'], color='skyblue')\n",
    "    plt.title(f'Most Common Words in {rating} Reviews')\n",
    "    plt.xlabel('Frekuensi')\n",
    "    plt.ylabel('Kata')\n",
    "    plt.show()\n"
   ]
  },
  {
   "cell_type": "code",
   "execution_count": 135,
   "id": "d581a887",
   "metadata": {},
   "outputs": [],
   "source": [
    "import pandas as pd\n",
    "from sklearn.feature_extraction.text import TfidfVectorizer\n",
    "import pickle\n",
    "\n",
    "# Load your training data from the CSV file\n",
    "df_train = pd.read_csv(\"hasilResampling.csv\")\n",
    "\n",
    "# Handle missing values in the \"review\" column\n",
    "df_train['review'].fillna('', inplace=True)\n",
    "\n",
    "# Extract the text data from the \"review\" column\n",
    "train_data = df_train['review'].tolist()\n",
    "\n",
    "# During Training\n",
    "tfidf_vectorizer = TfidfVectorizer(max_features=10000)\n",
    "X_train_tfidf = tfidf_vectorizer.fit_transform(train_data)\n",
    "\n",
    "# Save the vocabulary for later use\n",
    "with open('vokabuler1.pkl', 'wb') as file:\n",
    "    pickle.dump(tfidf_vectorizer.vocabulary_, file)\n"
   ]
  },
  {
   "cell_type": "code",
   "execution_count": 144,
   "id": "2da05a13",
   "metadata": {},
   "outputs": [
    {
     "name": "stdout",
     "output_type": "stream",
     "text": [
      "The number of features in the vocabulary is: 10000\n"
     ]
    }
   ],
   "source": [
    "import pickle\n",
    "\n",
    "# Load the vocabulary from the pickle file\n",
    "with open('vokabuler.pkl', 'rb') as file:\n",
    "    vocabulary = pickle.load(file)\n",
    "\n",
    "# Calculate the number of features (words) in the vocabulary\n",
    "num_features = len(vocabulary)\n",
    "\n",
    "print(f\"The number of features in the vocabulary is: {num_features}\")\n"
   ]
  },
  {
   "cell_type": "markdown",
   "id": "537422da",
   "metadata": {
    "papermill": {
     "duration": 0.01277,
     "end_time": "2023-08-20T07:17:44.745425",
     "exception": false,
     "start_time": "2023-08-20T07:17:44.732655",
     "status": "completed"
    },
    "tags": []
   },
   "source": [
    "# **Sentiment Prediction Function**\n",
    "\n",
    "*With user-friendliness in mind, I crafted a function that accepts a review as input and employs the trained SVC model to forecast its sentiment. By analyzing the review's unique attributes, the function assigns it to the positive, negative, or neutral sentiment category, yielding the sentiment prediction as its outcome.*"
   ]
  },
  {
   "cell_type": "code",
   "execution_count": 51,
   "id": "0925fa45",
   "metadata": {
    "execution": {
     "iopub.execute_input": "2023-08-20T07:17:44.773594Z",
     "iopub.status.busy": "2023-08-20T07:17:44.773180Z",
     "iopub.status.idle": "2023-08-20T07:17:44.778994Z",
     "shell.execute_reply": "2023-08-20T07:17:44.777610Z"
    },
    "papermill": {
     "duration": 0.022819,
     "end_time": "2023-08-20T07:17:44.781395",
     "exception": false,
     "start_time": "2023-08-20T07:17:44.758576",
     "status": "completed"
    },
    "tags": []
   },
   "outputs": [],
   "source": [
    "def predict_sentiment(review):\n",
    "    review_tfidf = vectorizer.transform([review])\n",
    "    sentiment = model.predict(review_tfidf)\n",
    "    return sentiment[0]"
   ]
  },
  {
   "cell_type": "markdown",
   "id": "103ab51b",
   "metadata": {
    "papermill": {
     "duration": 0.012882,
     "end_time": "2023-08-20T07:17:44.808698",
     "exception": false,
     "start_time": "2023-08-20T07:17:44.795816",
     "status": "completed"
    },
    "tags": []
   },
   "source": [
    "# **Testing**"
   ]
  },
  {
   "cell_type": "markdown",
   "id": "dab5df49",
   "metadata": {
    "papermill": {
     "duration": 0.01286,
     "end_time": "2023-08-20T07:17:44.835584",
     "exception": false,
     "start_time": "2023-08-20T07:17:44.822724",
     "status": "completed"
    },
    "tags": []
   },
   "source": [
    "**Sample Testing 1**"
   ]
  },
  {
   "cell_type": "code",
   "execution_count": 52,
   "id": "46bd45fa",
   "metadata": {
    "execution": {
     "iopub.execute_input": "2023-08-20T07:17:44.863916Z",
     "iopub.status.busy": "2023-08-20T07:17:44.863340Z",
     "iopub.status.idle": "2023-08-20T07:17:44.879491Z",
     "shell.execute_reply": "2023-08-20T07:17:44.877960Z"
    },
    "papermill": {
     "duration": 0.033801,
     "end_time": "2023-08-20T07:17:44.882501",
     "exception": false,
     "start_time": "2023-08-20T07:17:44.848700",
     "status": "completed"
    },
    "tags": []
   },
   "outputs": [
    {
     "name": "stdout",
     "output_type": "stream",
     "text": [
      "Predicted sentiment: Very Positive\n"
     ]
    }
   ],
   "source": [
    "new_review = \"This restaurant has excellent service and delicious food.\"\n",
    "predicted_sentiment = predict_sentiment(new_review)\n",
    "print(\"Predicted sentiment:\", predicted_sentiment)"
   ]
  },
  {
   "cell_type": "markdown",
   "id": "602ec511",
   "metadata": {
    "papermill": {
     "duration": 0.013257,
     "end_time": "2023-08-20T07:17:44.909236",
     "exception": false,
     "start_time": "2023-08-20T07:17:44.895979",
     "status": "completed"
    },
    "tags": []
   },
   "source": [
    "**Sample Testing 2**"
   ]
  },
  {
   "cell_type": "code",
   "execution_count": 53,
   "id": "a547a2e7",
   "metadata": {
    "execution": {
     "iopub.execute_input": "2023-08-20T07:17:44.938649Z",
     "iopub.status.busy": "2023-08-20T07:17:44.938231Z",
     "iopub.status.idle": "2023-08-20T07:17:44.953396Z",
     "shell.execute_reply": "2023-08-20T07:17:44.952056Z"
    },
    "papermill": {
     "duration": 0.032866,
     "end_time": "2023-08-20T07:17:44.955981",
     "exception": false,
     "start_time": "2023-08-20T07:17:44.923115",
     "status": "completed"
    },
    "tags": []
   },
   "outputs": [
    {
     "name": "stdout",
     "output_type": "stream",
     "text": [
      "Predicted sentiment: Very Negative\n"
     ]
    }
   ],
   "source": [
    "new_review2 = \"This food taste like jerk.\"\n",
    "predicted_sentiment = predict_sentiment(new_review2)\n",
    "print(\"Predicted sentiment:\", predicted_sentiment)"
   ]
  },
  {
   "cell_type": "markdown",
   "id": "7b1d4127",
   "metadata": {
    "papermill": {
     "duration": 0.012947,
     "end_time": "2023-08-20T07:17:44.982293",
     "exception": false,
     "start_time": "2023-08-20T07:17:44.969346",
     "status": "completed"
    },
    "tags": []
   },
   "source": [
    "**Sample Testing 3**"
   ]
  },
  {
   "cell_type": "code",
   "execution_count": 54,
   "id": "26267e04",
   "metadata": {
    "execution": {
     "iopub.execute_input": "2023-08-20T07:17:45.013638Z",
     "iopub.status.busy": "2023-08-20T07:17:45.013156Z",
     "iopub.status.idle": "2023-08-20T07:17:45.030192Z",
     "shell.execute_reply": "2023-08-20T07:17:45.028404Z"
    },
    "papermill": {
     "duration": 0.037442,
     "end_time": "2023-08-20T07:17:45.033020",
     "exception": false,
     "start_time": "2023-08-20T07:17:44.995578",
     "status": "completed"
    },
    "tags": []
   },
   "outputs": [
    {
     "name": "stdout",
     "output_type": "stream",
     "text": [
      "Predicted sentiment: Very Negative\n"
     ]
    }
   ],
   "source": [
    "new_review3 = \"This is dull\"\n",
    "predicted_sentiment = predict_sentiment(new_review3)\n",
    "print(\"Predicted sentiment:\", predicted_sentiment)"
   ]
  },
  {
   "cell_type": "markdown",
   "id": "39b663d3",
   "metadata": {
    "papermill": {
     "duration": 0.013352,
     "end_time": "2023-08-20T07:17:45.060573",
     "exception": false,
     "start_time": "2023-08-20T07:17:45.047221",
     "status": "completed"
    },
    "tags": []
   },
   "source": [
    "**I extend my gratitude for your assistance! Your votes and recommendations hold immense value as we collaboratively enhance this endeavor.**"
   ]
  }
 ],
 "metadata": {
  "kernelspec": {
   "display_name": "Python 3",
   "language": "python",
   "name": "python3"
  },
  "language_info": {
   "codemirror_mode": {
    "name": "ipython",
    "version": 3
   },
   "file_extension": ".py",
   "mimetype": "text/x-python",
   "name": "python",
   "nbconvert_exporter": "python",
   "pygments_lexer": "ipython3",
   "version": "3.10.7"
  },
  "papermill": {
   "default_parameters": {},
   "duration": 276.291197,
   "end_time": "2023-08-20T07:17:46.301614",
   "environment_variables": {},
   "exception": null,
   "input_path": "__notebook__.ipynb",
   "output_path": "__notebook__.ipynb",
   "parameters": {},
   "start_time": "2023-08-20T07:13:10.010417",
   "version": "2.4.0"
  }
 },
 "nbformat": 4,
 "nbformat_minor": 5
}
