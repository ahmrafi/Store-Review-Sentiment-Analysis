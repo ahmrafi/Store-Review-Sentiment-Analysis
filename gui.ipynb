{
 "cells": [
  {
   "cell_type": "code",
   "execution_count": 1,
   "metadata": {},
   "outputs": [
    {
     "name": "stderr",
     "output_type": "stream",
     "text": [
      "2023-12-22 13:47:23.742 Python[4991:2734890] WARNING: Secure coding is not enabled for restorable state! Enable secure coding by implementing NSApplicationDelegate.applicationSupportsSecureRestorableState: and returning YES.\n"
     ]
    },
    {
     "name": "stdout",
     "output_type": "stream",
     "text": [
      "Prediction: Very Negative\n"
     ]
    },
    {
     "ename": "",
     "evalue": "",
     "output_type": "error",
     "traceback": [
      "\u001b[1;31mThe Kernel crashed while executing code in the the current cell or a previous cell. Please review the code in the cell(s) to identify a possible cause of the failure. Click <a href='https://aka.ms/vscodeJupyterKernelCrash'>here</a> for more info. View Jupyter <a href='command:jupyter.viewOutput'>log</a> for further details."
     ]
    }
   ],
   "source": [
    "import pandas as pd\n",
    "from sklearn.feature_extraction.text import TfidfVectorizer\n",
    "import pickle\n",
    "import joblib\n",
    "import re\n",
    "from tkinter import Tk, Frame, Label, StringVar, Button, PhotoImage\n",
    "import customtkinter\n",
    "\n",
    "class newproject:\n",
    "    def __init__(self, master):\n",
    "        self.window = master\n",
    "        self.window.state('zoomed')  # Make the window fullscreen\n",
    "        self.window.title('PROJECT')\n",
    "        self.window.configure(bg='#f2f2f2')\n",
    "\n",
    "        self.register_frame = Frame(self.window, bg='#c748a7', width=1440, height=960)\n",
    "        self.register_frame.place(x=1, y=1)\n",
    "\n",
    "        # Load the background image\n",
    "        self.bg_image = PhotoImage(file='Gambar/bgpemro.png')\n",
    "\n",
    "        # Use a Label to display the background image\n",
    "        self.bg_label = Label(self.register_frame, image=self.bg_image)\n",
    "        self.bg_label.place(x=0, y=0, relwidth=1, relheight=1)\n",
    "\n",
    "        self.timpa = customtkinter.CTkFrame(self.register_frame, fg_color=\"#f2f2f2\", corner_radius=5, width=444,\n",
    "                                            height=60)\n",
    "        self.timpa.place(x=804, y=623)\n",
    "\n",
    "\n",
    "        self.entry = customtkinter.CTkEntry(master=self.register_frame,\n",
    "                                            placeholder_text=\"Type your title here....\",\n",
    "                                            width=444,\n",
    "                                            height=60,\n",
    "                                            font=('Comic Sans MS', 22),\n",
    "                                            bg_color=\"#c748a7\",\n",
    "                                            border_width=2,\n",
    "                                            corner_radius=45)\n",
    "        self.entry.place(x=804, y=347)\n",
    "\n",
    "        # StringVar to store the prediction result\n",
    "        self.prediction_result = StringVar()\n",
    "\n",
    "        def predict():\n",
    "            def lowercase(text):\n",
    "                return text.lower()\n",
    "\n",
    "            def remove_unnecessary_char(text):\n",
    "                text = re.sub('\\n', ' ', text)\n",
    "                text = re.sub('rt', ' ', text)\n",
    "                text = re.sub('user', ' ', text)\n",
    "                text = re.sub('((www\\.[^\\s]+)|(https?://[^\\s]+))', ' ', text)\n",
    "                text = re.sub('  +', ' ', text)\n",
    "                text = re.sub('ï¿½', ' ', text)\n",
    "                text = re.sub('ï¿', ' ', text)\n",
    "                text = re.sub('ý', ' ', text)\n",
    "                text = re.sub('ï', ' ', text)\n",
    "                return text\n",
    "\n",
    "            def remove_symbolnumeric(text):\n",
    "                text = re.sub(r'[^a-zA-Z\\s]', '', text)\n",
    "                return text\n",
    "\n",
    "            def preprocess(text):\n",
    "                text = lowercase(text)\n",
    "                text = remove_unnecessary_char(text)\n",
    "                text = remove_symbolnumeric(text)\n",
    "                return text\n",
    "\n",
    "            with open('vokabuler.pkl', 'rb') as file:\n",
    "                vokabuler_loaded = pickle.load(file)\n",
    "\n",
    "            vectorizer_baru = TfidfVectorizer(vocabulary=vokabuler_loaded)\n",
    "\n",
    "            teks_baru = self.entry.get()\n",
    "            teks_baru = preprocess(teks_baru)\n",
    "            teks_baru_transformed = vectorizer_baru.fit_transform([teks_baru])\n",
    "\n",
    "            svm_model = joblib.load('svm_tfidf.sav')\n",
    "            prediksi = svm_model.predict(teks_baru_transformed)\n",
    "\n",
    "            # Update the label with the prediction result\n",
    "            self.pred.config(text=prediksi[0])\n",
    "\n",
    "            # Print the prediction result in the terminal\n",
    "            print(\"Prediction:\", prediksi[0])\n",
    "\n",
    "        # Load button image\n",
    "        self.button_image_1 = PhotoImage(file=\"Gambar/button_1.png\")\n",
    "\n",
    "        # Create and display the button\n",
    "        self.button_1 = Button(image=self.button_image_1, borderwidth=0, highlightthickness=0, command=lambda: predict(), relief=\"flat\")\n",
    "        self.button_1.image = self.button_image_1  # Keep a reference to avoid garbage collection\n",
    "        self.button_1.place(x=873, y=490)\n",
    "\n",
    "        # Create a label to display the prediction result\n",
    "        self.pred = Label(self.register_frame, text=\"\", bg=\"#c748a7\", font=('Times New Roman', 40))\n",
    "        self.pred.place(x=804, y=623)\n",
    "\n",
    "window = Tk()\n",
    "root = newproject(window)\n",
    "window.mainloop()"
   ]
  }
 ],
 "metadata": {
  "kernelspec": {
   "display_name": "Python 3",
   "language": "python",
   "name": "python3"
  },
  "language_info": {
   "codemirror_mode": {
    "name": "ipython",
    "version": 3
   },
   "file_extension": ".py",
   "mimetype": "text/x-python",
   "name": "python",
   "nbconvert_exporter": "python",
   "pygments_lexer": "ipython3",
   "version": "3.10.7"
  }
 },
 "nbformat": 4,
 "nbformat_minor": 2
}
